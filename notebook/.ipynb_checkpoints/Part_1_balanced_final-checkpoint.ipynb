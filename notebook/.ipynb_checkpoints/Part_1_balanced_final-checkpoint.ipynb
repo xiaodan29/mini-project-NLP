{
 "cells": [
  {
   "cell_type": "markdown",
   "metadata": {},
   "source": [
    "## Identifying Duplicate Questions"
   ]
  },
  {
   "cell_type": "markdown",
   "metadata": {},
   "source": [
    "Over 100 million people visit Quora every month, so it's no surprise that many people ask similar (or the same) questions. Various questions with the same intent can cause people to spend extra time searching for the best answer to their question, and results in members answering multiple versions of the same question. Quora uses random forest to identify duplicated questions to provide a better experience to active seekers and writers, and offer more value to both of these groups in the long term.\n",
    "Follow the steps outlined below to build the appropriate classifier model. \n",
    "\n",
    "\n",
    "Steps:\n",
    "- Download data\n",
    "- Exploration\n",
    "- Cleaning\n",
    "- Feature Engineering\n",
    "- Modeling\n",
    "\n",
    "By the end of this project you should have **a presentation that describes the model you built** and its **performance**. \n"
   ]
  },
  {
   "cell_type": "code",
   "execution_count": 1,
   "metadata": {
    "tags": []
   },
   "outputs": [],
   "source": [
    "import pandas as pd\n",
    "import numpy as np\n",
    "import matplotlib.pyplot as plt\n",
    "import seaborn as sns\n",
    "from sklearn.feature_extraction.text import CountVectorizer\n",
    "from sklearn.feature_extraction.text import TfidfVectorizer\n",
    "from sklearn.linear_model import LogisticRegression\n",
    "from sklearn.model_selection import train_test_split\n",
    "from sklearn.metrics import accuracy_score, f1_score"
   ]
  },
  {
   "cell_type": "code",
   "execution_count": 2,
   "metadata": {
    "tags": []
   },
   "outputs": [
    {
     "data": {
      "text/html": [
       "<div>\n",
       "<style scoped>\n",
       "    .dataframe tbody tr th:only-of-type {\n",
       "        vertical-align: middle;\n",
       "    }\n",
       "\n",
       "    .dataframe tbody tr th {\n",
       "        vertical-align: top;\n",
       "    }\n",
       "\n",
       "    .dataframe thead th {\n",
       "        text-align: right;\n",
       "    }\n",
       "</style>\n",
       "<table border=\"1\" class=\"dataframe\">\n",
       "  <thead>\n",
       "    <tr style=\"text-align: right;\">\n",
       "      <th></th>\n",
       "      <th>id</th>\n",
       "      <th>qid1</th>\n",
       "      <th>qid2</th>\n",
       "      <th>question1</th>\n",
       "      <th>question2</th>\n",
       "      <th>is_duplicate</th>\n",
       "    </tr>\n",
       "  </thead>\n",
       "  <tbody>\n",
       "    <tr>\n",
       "      <th>0</th>\n",
       "      <td>0</td>\n",
       "      <td>1</td>\n",
       "      <td>2</td>\n",
       "      <td>What is the step by step guide to invest in sh...</td>\n",
       "      <td>What is the step by step guide to invest in sh...</td>\n",
       "      <td>0</td>\n",
       "    </tr>\n",
       "    <tr>\n",
       "      <th>1</th>\n",
       "      <td>1</td>\n",
       "      <td>3</td>\n",
       "      <td>4</td>\n",
       "      <td>What is the story of Kohinoor (Koh-i-Noor) Dia...</td>\n",
       "      <td>What would happen if the Indian government sto...</td>\n",
       "      <td>0</td>\n",
       "    </tr>\n",
       "    <tr>\n",
       "      <th>2</th>\n",
       "      <td>2</td>\n",
       "      <td>5</td>\n",
       "      <td>6</td>\n",
       "      <td>How can I increase the speed of my internet co...</td>\n",
       "      <td>How can Internet speed be increased by hacking...</td>\n",
       "      <td>0</td>\n",
       "    </tr>\n",
       "    <tr>\n",
       "      <th>3</th>\n",
       "      <td>3</td>\n",
       "      <td>7</td>\n",
       "      <td>8</td>\n",
       "      <td>Why am I mentally very lonely? How can I solve...</td>\n",
       "      <td>Find the remainder when [math]23^{24}[/math] i...</td>\n",
       "      <td>0</td>\n",
       "    </tr>\n",
       "    <tr>\n",
       "      <th>4</th>\n",
       "      <td>4</td>\n",
       "      <td>9</td>\n",
       "      <td>10</td>\n",
       "      <td>Which one dissolve in water quikly sugar, salt...</td>\n",
       "      <td>Which fish would survive in salt water?</td>\n",
       "      <td>0</td>\n",
       "    </tr>\n",
       "  </tbody>\n",
       "</table>\n",
       "</div>"
      ],
      "text/plain": [
       "   id  qid1  qid2                                          question1  \\\n",
       "0   0     1     2  What is the step by step guide to invest in sh...   \n",
       "1   1     3     4  What is the story of Kohinoor (Koh-i-Noor) Dia...   \n",
       "2   2     5     6  How can I increase the speed of my internet co...   \n",
       "3   3     7     8  Why am I mentally very lonely? How can I solve...   \n",
       "4   4     9    10  Which one dissolve in water quikly sugar, salt...   \n",
       "\n",
       "                                           question2  is_duplicate  \n",
       "0  What is the step by step guide to invest in sh...             0  \n",
       "1  What would happen if the Indian government sto...             0  \n",
       "2  How can Internet speed be increased by hacking...             0  \n",
       "3  Find the remainder when [math]23^{24}[/math] i...             0  \n",
       "4            Which fish would survive in salt water?             0  "
      ]
     },
     "execution_count": 2,
     "metadata": {},
     "output_type": "execute_result"
    }
   ],
   "source": [
    "df = pd.read_csv(\"train.csv\")\n",
    "df.head()"
   ]
  },
  {
   "cell_type": "markdown",
   "metadata": {},
   "source": [
    "#### Note\n",
    "There is no designated test.csv file. The train.csv file is the entire dataset. Part of the data in the train.csv file should be set aside to act as the final testing data."
   ]
  },
  {
   "cell_type": "code",
   "execution_count": null,
   "metadata": {},
   "outputs": [],
   "source": []
  },
  {
   "cell_type": "markdown",
   "metadata": {},
   "source": [
    "### Exploration"
   ]
  },
  {
   "cell_type": "code",
   "execution_count": 3,
   "metadata": {
    "tags": []
   },
   "outputs": [
    {
     "data": {
      "text/plain": [
       "(404290, 6)"
      ]
     },
     "execution_count": 3,
     "metadata": {},
     "output_type": "execute_result"
    }
   ],
   "source": [
    "df.shape"
   ]
  },
  {
   "cell_type": "code",
   "execution_count": 4,
   "metadata": {
    "tags": []
   },
   "outputs": [
    {
     "name": "stdout",
     "output_type": "stream",
     "text": [
      "<class 'pandas.core.frame.DataFrame'>\n",
      "RangeIndex: 404290 entries, 0 to 404289\n",
      "Data columns (total 6 columns):\n",
      " #   Column        Non-Null Count   Dtype \n",
      "---  ------        --------------   ----- \n",
      " 0   id            404290 non-null  int64 \n",
      " 1   qid1          404290 non-null  int64 \n",
      " 2   qid2          404290 non-null  int64 \n",
      " 3   question1     404289 non-null  object\n",
      " 4   question2     404288 non-null  object\n",
      " 5   is_duplicate  404290 non-null  int64 \n",
      "dtypes: int64(4), object(2)\n",
      "memory usage: 18.5+ MB\n"
     ]
    }
   ],
   "source": [
    "df.info()"
   ]
  },
  {
   "cell_type": "code",
   "execution_count": 5,
   "metadata": {
    "tags": []
   },
   "outputs": [
    {
     "data": {
      "text/plain": [
       "id              0\n",
       "qid1            0\n",
       "qid2            0\n",
       "question1       1\n",
       "question2       2\n",
       "is_duplicate    0\n",
       "dtype: int64"
      ]
     },
     "execution_count": 5,
     "metadata": {},
     "output_type": "execute_result"
    }
   ],
   "source": [
    "df.isnull().sum()"
   ]
  },
  {
   "cell_type": "code",
   "execution_count": 6,
   "metadata": {
    "tags": []
   },
   "outputs": [
    {
     "data": {
      "text/plain": [
       "id              0\n",
       "qid1            0\n",
       "qid2            0\n",
       "question1       0\n",
       "question2       0\n",
       "is_duplicate    0\n",
       "dtype: int64"
      ]
     },
     "execution_count": 6,
     "metadata": {},
     "output_type": "execute_result"
    }
   ],
   "source": [
    "df=df.fillna(\"\")\n",
    "df.isnull().sum()"
   ]
  },
  {
   "cell_type": "code",
   "execution_count": 7,
   "metadata": {
    "tags": []
   },
   "outputs": [
    {
     "data": {
      "text/plain": [
       "array([0, 1])"
      ]
     },
     "execution_count": 7,
     "metadata": {},
     "output_type": "execute_result"
    }
   ],
   "source": [
    "df.is_duplicate.unique()"
   ]
  },
  {
   "cell_type": "markdown",
   "metadata": {},
   "source": [
    "- Visualize the percentage of duplicate questions "
   ]
  },
  {
   "cell_type": "code",
   "execution_count": 8,
   "metadata": {
    "tags": []
   },
   "outputs": [
    {
     "data": {
      "image/png": "[encoded data removed]",
      "text/plain": [
       "<Figure size 800x600 with 1 Axes>"
      ]
     },
     "metadata": {},
     "output_type": "display_data"
    }
   ],
   "source": [
    "\n",
    "# Calculate count and percentage of each class\n",
    "count = df['is_duplicate'].value_counts()\n",
    "percentage = df['is_duplicate'].value_counts(normalize=True) * 100\n",
    "\n",
    "# Create a new dataframe with count and percentage values\n",
    "plot_data = pd.DataFrame({'count': count, 'percentage': percentage})\n",
    "\n",
    "# Create a bar plot with seaborn\n",
    "plt.figure(figsize=(8, 6))\n",
    "sns.barplot(x=plot_data.index, y='count', data=plot_data)\n",
    "\n",
    "# Add percentage values on top of the bars\n",
    "for i, p in enumerate(plot_data['percentage']):\n",
    "    plt.text(i, count[i] + 1000, f'{p:.2f}%', ha='center', fontsize=12)\n",
    "\n",
    "# Set plot title, x-axis label, and y-axis label\n",
    "plt.title('Distribution of is_duplicate column')\n",
    "plt.xlabel('Is Duplicate')\n",
    "plt.ylabel('Count')\n",
    "\n",
    "# Show the plot\n",
    "plt.show()\n"
   ]
  },
  {
   "cell_type": "code",
   "execution_count": 9,
   "metadata": {},
   "outputs": [],
   "source": [
    "# try to balance the dataset"
   ]
  },
  {
   "cell_type": "code",
   "execution_count": 10,
   "metadata": {
    "tags": []
   },
   "outputs": [],
   "source": [
    "# Separate the two classes\n",
    "duplicate = df[df['is_duplicate'] == 1]\n",
    "non_duplicate = df[df['is_duplicate'] == 0]\n",
    "\n",
    "# Undersample the majority class\n",
    "non_duplicate_undersampled = non_duplicate.sample(len(duplicate))\n",
    "\n",
    "# Concatenate the undersampled majority class and minority class\n",
    "balanced_data = pd.concat([non_duplicate_undersampled, duplicate], axis=0)\n",
    "\n",
    "# Shuffle the balanced dataset\n",
    "balanced_data = balanced_data.sample(frac=1).reset_index(drop=True)\n"
   ]
  },
  {
   "cell_type": "code",
   "execution_count": 11,
   "metadata": {
    "tags": []
   },
   "outputs": [
    {
     "data": {
      "text/plain": [
       "0    149263\n",
       "1    149263\n",
       "Name: is_duplicate, dtype: int64"
      ]
     },
     "execution_count": 11,
     "metadata": {},
     "output_type": "execute_result"
    }
   ],
   "source": [
    "balanced_data['is_duplicate'].value_counts()"
   ]
  },
  {
   "cell_type": "markdown",
   "metadata": {},
   "source": [
    "### Cleaning\n",
    "\n",
    "- Tokenization\n",
    "- Stopwords cleaning\n",
    "- Removing punctuation\n",
    "- Normalizing\n",
    "- Stemming"
   ]
  },
  {
   "cell_type": "code",
   "execution_count": 12,
   "metadata": {},
   "outputs": [],
   "source": [
    "import warnings\n",
    "warnings.filterwarnings(\"ignore\")\n",
    "import re\n",
    "import string\n",
    "import nltk\n",
    "from nltk.corpus import stopwords\n",
    "from nltk.stem import PorterStemmer, WordNetLemmatizer\n"
   ]
  },
  {
   "cell_type": "code",
   "execution_count": 13,
   "metadata": {
    "tags": []
   },
   "outputs": [
    {
     "name": "stderr",
     "output_type": "stream",
     "text": [
      "[nltk_data] Downloading package stopwords to\n",
      "[nltk_data]     /Users/leahchen/nltk_data...\n",
      "[nltk_data]   Package stopwords is already up-to-date!\n",
      "[nltk_data] Downloading package wordnet to\n",
      "[nltk_data]     /Users/leahchen/nltk_data...\n",
      "[nltk_data]   Package wordnet is already up-to-date!\n"
     ]
    },
    {
     "data": {
      "text/plain": [
       "True"
      ]
     },
     "execution_count": 13,
     "metadata": {},
     "output_type": "execute_result"
    }
   ],
   "source": [
    "nltk.download('stopwords')\n",
    "nltk.download('wordnet')"
   ]
  },
  {
   "cell_type": "code",
   "execution_count": 14,
   "metadata": {},
   "outputs": [],
   "source": [
    "stop_words = set(stopwords.words('english'))\n",
    "stemmer = PorterStemmer()\n",
    "lemmatizer = WordNetLemmatizer()\n",
    "\n",
    "def clean_text(text):\n",
    "    # Remove punctuation and tokenize\n",
    "    text = re.findall(r'\\b\\w+\\b', text.lower())\n",
    "    \n",
    "    # Remove stopwords\n",
    "    text = [word for word in text if word not in stop_words]\n",
    "    \n",
    "    # Stemming or Lemmatization\n",
    "    text = [lemmatizer.lemmatize(word) for word in text]\n",
    "    \n",
    "    return ' '.join(text)\n",
    "\n",
    "df['question1'] = df['question1'].apply(clean_text)\n",
    "df['question2'] = df['question2'].apply(clean_text)\n"
   ]
  },
  {
   "cell_type": "code",
   "execution_count": 15,
   "metadata": {},
   "outputs": [
    {
     "data": {
      "text/html": [
       "<div>\n",
       "<style scoped>\n",
       "    .dataframe tbody tr th:only-of-type {\n",
       "        vertical-align: middle;\n",
       "    }\n",
       "\n",
       "    .dataframe tbody tr th {\n",
       "        vertical-align: top;\n",
       "    }\n",
       "\n",
       "    .dataframe thead th {\n",
       "        text-align: right;\n",
       "    }\n",
       "</style>\n",
       "<table border=\"1\" class=\"dataframe\">\n",
       "  <thead>\n",
       "    <tr style=\"text-align: right;\">\n",
       "      <th></th>\n",
       "      <th>id</th>\n",
       "      <th>qid1</th>\n",
       "      <th>qid2</th>\n",
       "      <th>question1</th>\n",
       "      <th>question2</th>\n",
       "      <th>is_duplicate</th>\n",
       "    </tr>\n",
       "  </thead>\n",
       "  <tbody>\n",
       "    <tr>\n",
       "      <th>0</th>\n",
       "      <td>0</td>\n",
       "      <td>1</td>\n",
       "      <td>2</td>\n",
       "      <td>step step guide invest share market india</td>\n",
       "      <td>step step guide invest share market</td>\n",
       "      <td>0</td>\n",
       "    </tr>\n",
       "    <tr>\n",
       "      <th>1</th>\n",
       "      <td>1</td>\n",
       "      <td>3</td>\n",
       "      <td>4</td>\n",
       "      <td>story kohinoor koh noor diamond</td>\n",
       "      <td>would happen indian government stole kohinoor ...</td>\n",
       "      <td>0</td>\n",
       "    </tr>\n",
       "    <tr>\n",
       "      <th>2</th>\n",
       "      <td>2</td>\n",
       "      <td>5</td>\n",
       "      <td>6</td>\n",
       "      <td>increase speed internet connection using vpn</td>\n",
       "      <td>internet speed increased hacking dns</td>\n",
       "      <td>0</td>\n",
       "    </tr>\n",
       "    <tr>\n",
       "      <th>3</th>\n",
       "      <td>3</td>\n",
       "      <td>7</td>\n",
       "      <td>8</td>\n",
       "      <td>mentally lonely solve</td>\n",
       "      <td>find remainder math 23 24 math divided 24 23</td>\n",
       "      <td>0</td>\n",
       "    </tr>\n",
       "    <tr>\n",
       "      <th>4</th>\n",
       "      <td>4</td>\n",
       "      <td>9</td>\n",
       "      <td>10</td>\n",
       "      <td>one dissolve water quikly sugar salt methane c...</td>\n",
       "      <td>fish would survive salt water</td>\n",
       "      <td>0</td>\n",
       "    </tr>\n",
       "  </tbody>\n",
       "</table>\n",
       "</div>"
      ],
      "text/plain": [
       "   id  qid1  qid2                                          question1  \\\n",
       "0   0     1     2          step step guide invest share market india   \n",
       "1   1     3     4                    story kohinoor koh noor diamond   \n",
       "2   2     5     6       increase speed internet connection using vpn   \n",
       "3   3     7     8                              mentally lonely solve   \n",
       "4   4     9    10  one dissolve water quikly sugar salt methane c...   \n",
       "\n",
       "                                           question2  is_duplicate  \n",
       "0                step step guide invest share market             0  \n",
       "1  would happen indian government stole kohinoor ...             0  \n",
       "2               internet speed increased hacking dns             0  \n",
       "3       find remainder math 23 24 math divided 24 23             0  \n",
       "4                      fish would survive salt water             0  "
      ]
     },
     "execution_count": 15,
     "metadata": {},
     "output_type": "execute_result"
    }
   ],
   "source": [
    "df.head()"
   ]
  },
  {
   "cell_type": "code",
   "execution_count": 16,
   "metadata": {},
   "outputs": [],
   "source": [
    "#saving to csv\n",
    "df.to_csv('df_cleaned.csv', index=False)"
   ]
  },
  {
   "cell_type": "code",
   "execution_count": 17,
   "metadata": {
    "tags": []
   },
   "outputs": [],
   "source": [
    "# Combine 'question1' and 'question2' into a single 'text' column\n",
    "df['text'] = df['question1'] + ' ' + df['question2']"
   ]
  },
  {
   "cell_type": "code",
   "execution_count": null,
   "metadata": {},
   "outputs": [],
   "source": []
  },
  {
   "cell_type": "code",
   "execution_count": 18,
   "metadata": {},
   "outputs": [],
   "source": [
    "# Split the dataset into train and test sets\n",
    "X_train, X_test, y_train, y_test = train_test_split(df['text'], df['is_duplicate'], test_size=0.2, random_state=42)"
   ]
  },
  {
   "cell_type": "markdown",
   "metadata": {},
   "source": [
    "### Feature Engineering & Modeling \n",
    "\n",
    "#### Feature Engineering techniques: \n",
    "\n",
    "- tf-idf\n",
    "- word2vec\n",
    "- word count\n",
    "\n",
    "#### Different modeling techniques:\n",
    "\n",
    "- logistic regression\n",
    "- XGBoost\n",
    "- LSTMs"
   ]
  },
  {
   "cell_type": "code",
   "execution_count": 50,
   "metadata": {},
   "outputs": [],
   "source": [
    "from sklearn.feature_extraction.text import TfidfVectorizer\n",
    "from sklearn.feature_extraction.text import CountVectorizer \n",
    "import gensim\n",
    "from gensim.models import Word2Vec\n",
    "from scipy.spatial.distance import cosine\n",
    "from sklearn.model_selection import train_test_split\n",
    "from sklearn.linear_model import LogisticRegression\n",
    "from sklearn.metrics import accuracy_score, f1_score\n",
    "from xgboost import XGBClassifier\n",
    "from sklearn.naive_bayes import MultinomialNB\n",
    "from sklearn.metrics import confusion_matrix\n",
    "from sklearn.ensemble import RandomForestClassifier\n",
    "from sklearn.metrics import accuracy_score, precision_score, recall_score, f1_score"
   ]
  },
  {
   "cell_type": "markdown",
   "metadata": {
    "tags": []
   },
   "source": [
    "#### Count Vectorizer and modeling with confusion matrix"
   ]
  },
  {
   "cell_type": "code",
   "execution_count": 20,
   "metadata": {
    "tags": []
   },
   "outputs": [],
   "source": [
    "vect_bow = CountVectorizer()"
   ]
  },
  {
   "cell_type": "code",
   "execution_count": 21,
   "metadata": {
    "tags": []
   },
   "outputs": [],
   "source": [
    "X_train_bow = vect_bow.fit_transform(X_train)\n",
    "X_test_bow = vect_bow.transform(X_test)"
   ]
  },
  {
   "cell_type": "markdown",
   "metadata": {},
   "source": [
    "- Logistic Regression"
   ]
  },
  {
   "cell_type": "code",
   "execution_count": 22,
   "metadata": {
    "tags": []
   },
   "outputs": [
    {
     "name": "stdout",
     "output_type": "stream",
     "text": [
      "BoW Accuracy:  0.750290632961488\n",
      "BoW F1 Score:  0.6356007146853401\n"
     ]
    }
   ],
   "source": [
    "# Logistic Regression model for BoW\n",
    "lr_bow = LogisticRegression()\n",
    "lr_bow.fit(X_train_bow, y_train)\n",
    "y_pred_bow = lr_bow.predict(X_test_bow)\n",
    "print(\"BoW Accuracy: \", accuracy_score(y_test, y_pred_bow))\n",
    "print(\"BoW F1 Score: \", f1_score(y_test, y_pred_bow))"
   ]
  },
  {
   "cell_type": "markdown",
   "metadata": {},
   "source": [
    "- XGBoost"
   ]
  },
  {
   "cell_type": "code",
   "execution_count": 23,
   "metadata": {
    "tags": []
   },
   "outputs": [
    {
     "name": "stdout",
     "output_type": "stream",
     "text": [
      "XGBoost Accuracy: 0.7386282124217765\n",
      "XGBoost F1 Score: 0.5405652173913044\n"
     ]
    }
   ],
   "source": [
    "# XGBoost\n",
    "xgb_model = XGBClassifier()\n",
    "xgb_model.fit(X_train_bow, y_train)\n",
    "xgb_predictions = xgb_model.predict(X_test_bow)\n",
    "print('XGBoost Accuracy:', accuracy_score(y_test, xgb_predictions))\n",
    "print('XGBoost F1 Score:', f1_score(y_test, xgb_predictions))"
   ]
  },
  {
   "cell_type": "markdown",
   "metadata": {},
   "source": [
    "- Multinomial Naive Bayes"
   ]
  },
  {
   "cell_type": "code",
   "execution_count": 24,
   "metadata": {
    "tags": []
   },
   "outputs": [
    {
     "name": "stdout",
     "output_type": "stream",
     "text": [
      "NaiveBayes Accuracy: 0.733718370476638\n",
      "NaiveBayes F1 Score: 0.629306337482568\n"
     ]
    }
   ],
   "source": [
    "# Multinomial Naive Bayes\n",
    "clf_bow = MultinomialNB()\n",
    "clf_bow.fit(X_train_bow, y_train)\n",
    "clf_predictions = clf_bow.predict(X_test_bow)\n",
    "print('NaiveBayes Accuracy:', accuracy_score(y_test, clf_predictions))\n",
    "print('NaiveBayes F1 Score:', f1_score(y_test, clf_predictions))"
   ]
  },
  {
   "cell_type": "code",
   "execution_count": 25,
   "metadata": {
    "tags": []
   },
   "outputs": [],
   "source": [
    "# CountVectorizer confusion matrix- logistic regression model\n",
    "cm = confusion_matrix(y_test, y_pred_bow)"
   ]
  },
  {
   "cell_type": "code",
   "execution_count": 26,
   "metadata": {
    "tags": []
   },
   "outputs": [
    {
     "data": {
      "image/png": "[encoded data removed]",
      "text/plain": [
       "<Figure size 500x500 with 2 Axes>"
      ]
     },
     "metadata": {},
     "output_type": "display_data"
    }
   ],
   "source": [
    "plt.figure(figsize=(5, 5))\n",
    "sns.heatmap(cm, annot=True, fmt='d', cmap='Blues', xticklabels=['not duplicate','duplicate'], yticklabels=['not duplicate','duplicate'])\n",
    "plt.xlabel('Predicted')\n",
    "plt.ylabel('Actual')\n",
    "plt.title('CountVectorizer confusion matrix')\n",
    "plt.show()"
   ]
  },
  {
   "cell_type": "code",
   "execution_count": null,
   "metadata": {},
   "outputs": [],
   "source": []
  },
  {
   "cell_type": "markdown",
   "metadata": {},
   "source": [
    "#### TF-IDF and modeling with confusion matrix"
   ]
  },
  {
   "cell_type": "code",
   "execution_count": 27,
   "metadata": {
    "tags": []
   },
   "outputs": [],
   "source": [
    "# Fit a basic TFIDF Vectorizer and view the results\n",
    "tfidf_vect = TfidfVectorizer(analyzer = 'word', token_pattern = r'\\w{1,}', max_features = 5000, use_idf = True)\n"
   ]
  },
  {
   "cell_type": "code",
   "execution_count": 28,
   "metadata": {
    "tags": []
   },
   "outputs": [],
   "source": [
    "# TF-IDF\n",
    "vect_tfidf = TfidfVectorizer()\n",
    "X_train_tfidf = vect_tfidf.fit_transform(X_train)\n",
    "X_test_tfidf = vect_tfidf.transform(X_test)"
   ]
  },
  {
   "cell_type": "markdown",
   "metadata": {},
   "source": [
    "- Logistic Regression"
   ]
  },
  {
   "cell_type": "code",
   "execution_count": 29,
   "metadata": {
    "tags": []
   },
   "outputs": [
    {
     "name": "stdout",
     "output_type": "stream",
     "text": [
      "TF-IDF Accuracy:  0.7515768384080734\n",
      "TF-IDF F1 Score:  0.6178345160860714\n"
     ]
    }
   ],
   "source": [
    "# Logistic Regression model for TF-IDF\n",
    "lr_tfidf = LogisticRegression()\n",
    "lr_tfidf.fit(X_train_tfidf, y_train)\n",
    "y_pred_tfidf = lr_tfidf.predict(X_test_tfidf)\n",
    "print(\"TF-IDF Accuracy: \", accuracy_score(y_test, y_pred_tfidf))\n",
    "print(\"TF-IDF F1 Score: \", f1_score(y_test, y_pred_tfidf))"
   ]
  },
  {
   "cell_type": "markdown",
   "metadata": {},
   "source": [
    "- XGBoost"
   ]
  },
  {
   "cell_type": "code",
   "execution_count": 30,
   "metadata": {
    "tags": []
   },
   "outputs": [
    {
     "name": "stdout",
     "output_type": "stream",
     "text": [
      "XGBoost Accuracy: 0.7378614360978506\n",
      "XGBoost F1 Score: 0.5414900060569351\n"
     ]
    }
   ],
   "source": [
    "# XGBoost\n",
    "xgb_model = XGBClassifier()\n",
    "xgb_model.fit(X_train_tfidf, y_train)\n",
    "xgb_predictions = xgb_model.predict(X_test_tfidf)\n",
    "print('XGBoost Accuracy:', accuracy_score(y_test, xgb_predictions))\n",
    "print('XGBoost F1 Score:', f1_score(y_test, xgb_predictions))"
   ]
  },
  {
   "cell_type": "markdown",
   "metadata": {},
   "source": [
    "- Multinomial Naive Bayes"
   ]
  },
  {
   "cell_type": "code",
   "execution_count": 31,
   "metadata": {
    "tags": []
   },
   "outputs": [
    {
     "name": "stdout",
     "output_type": "stream",
     "text": [
      "NaiveBayes Accuracy: 0.736488659130822\n",
      "NaiveBayes F1 Score: 0.5528342672459023\n"
     ]
    }
   ],
   "source": [
    "# Multinomial Naive Bayes\n",
    "clf_tf = MultinomialNB()\n",
    "clf_tf.fit(X_train_tfidf, y_train)\n",
    "clf_tfpredictions = clf_tf.predict(X_test_tfidf)\n",
    "print('NaiveBayes Accuracy:', accuracy_score(y_test, clf_tfpredictions))\n",
    "print('NaiveBayes F1 Score:', f1_score(y_test, clf_tfpredictions))"
   ]
  },
  {
   "cell_type": "code",
   "execution_count": 32,
   "metadata": {
    "tags": []
   },
   "outputs": [],
   "source": [
    "# TF-IDF confusion matrix - Logistic Regression Model\n",
    "confusion_matrix_tf = confusion_matrix(y_test, y_pred_tfidf)"
   ]
  },
  {
   "cell_type": "code",
   "execution_count": 33,
   "metadata": {
    "tags": []
   },
   "outputs": [],
   "source": [
    "def plot_confusion_matrix(cm, title='Confusion Matrix'):\n",
    "    plt.figure(figsize=(5, 5))\n",
    "    sns.heatmap(cm, annot=True, fmt='d', cmap='Blues', xticklabels=['not duplicate','duplicate'], yticklabels=['not duplicate','duplicate'])\n",
    "    plt.xlabel('Predicted')\n",
    "    plt.ylabel('Actual')\n",
    "    plt.title(title)\n",
    "    plt.show()"
   ]
  },
  {
   "cell_type": "code",
   "execution_count": 53,
   "metadata": {
    "tags": []
   },
   "outputs": [
    {
     "data": {
      "image/png": "[encoded data removed]",
      "text/plain": [
       "<Figure size 500x500 with 2 Axes>"
      ]
     },
     "metadata": {},
     "output_type": "display_data"
    }
   ],
   "source": [
    "# TF-IDF confusion matrix\n",
    "plot_confusion_matrix(confusion_matrix_tf, title='TF-IDF Confusion Matrix')"
   ]
  },
  {
   "cell_type": "code",
   "execution_count": null,
   "metadata": {},
   "outputs": [],
   "source": []
  },
  {
   "cell_type": "code",
   "execution_count": null,
   "metadata": {},
   "outputs": [],
   "source": []
  },
  {
   "cell_type": "markdown",
   "metadata": {},
   "source": [
    "#### Word2Vec and modeling with confusion matrix"
   ]
  },
  {
   "cell_type": "code",
   "execution_count": 35,
   "metadata": {
    "tags": []
   },
   "outputs": [],
   "source": [
    "import gensim\n",
    "from scipy.spatial.distance import cosine"
   ]
  },
  {
   "cell_type": "code",
   "execution_count": 36,
   "metadata": {
    "tags": []
   },
   "outputs": [],
   "source": [
    "# Prepare the corpus\n",
    "corpus = pd.concat([df['question1'], df['question2']]).reset_index(drop=True)\n",
    "\n",
    "# Tokenize the sentences\n",
    "sentences = corpus.apply(lambda x: x.split())\n",
    "\n",
    "# Train the Word2Vec model\n",
    "w2v_model = Word2Vec(sentences, min_count=1, vector_size=100)\n"
   ]
  },
  {
   "cell_type": "code",
   "execution_count": 38,
   "metadata": {
    "tags": []
   },
   "outputs": [],
   "source": [
    "def sentence_vector(sentence):\n",
    "    words = sentence.split()\n",
    "    if len(words) == 0:\n",
    "        return np.zeros(100)\n",
    "    word_vectors = [w2v_model.wv[word] for word in words if word in w2v_model.wv]\n",
    "    return np.mean(word_vectors, axis=0)"
   ]
  },
  {
   "cell_type": "code",
   "execution_count": 39,
   "metadata": {
    "tags": []
   },
   "outputs": [],
   "source": [
    "df['w2v_question1'] = df['question1'].apply(sentence_vector)\n",
    "df['w2v_question2'] = df['question2'].apply(sentence_vector)\n"
   ]
  },
  {
   "cell_type": "code",
   "execution_count": 40,
   "metadata": {
    "tags": []
   },
   "outputs": [],
   "source": [
    "def calculate_cosine_similarity(row):\n",
    "    u = row['w2v_question1']\n",
    "    v = row['w2v_question2']\n",
    "    \n",
    "    if u.ndim != 1 or v.ndim != 1:\n",
    "        return np.nan\n",
    "    else:\n",
    "        return 1 - cosine(u, v)\n",
    "\n",
    "df['cosine_similarity'] = df.apply(calculate_cosine_similarity, axis=1)\n"
   ]
  },
  {
   "cell_type": "code",
   "execution_count": 41,
   "metadata": {
    "tags": []
   },
   "outputs": [
    {
     "data": {
      "text/html": [
       "<div>\n",
       "<style scoped>\n",
       "    .dataframe tbody tr th:only-of-type {\n",
       "        vertical-align: middle;\n",
       "    }\n",
       "\n",
       "    .dataframe tbody tr th {\n",
       "        vertical-align: top;\n",
       "    }\n",
       "\n",
       "    .dataframe thead th {\n",
       "        text-align: right;\n",
       "    }\n",
       "</style>\n",
       "<table border=\"1\" class=\"dataframe\">\n",
       "  <thead>\n",
       "    <tr style=\"text-align: right;\">\n",
       "      <th></th>\n",
       "      <th>id</th>\n",
       "      <th>qid1</th>\n",
       "      <th>qid2</th>\n",
       "      <th>question1</th>\n",
       "      <th>question2</th>\n",
       "      <th>is_duplicate</th>\n",
       "      <th>text</th>\n",
       "      <th>w2v_question1</th>\n",
       "      <th>w2v_question2</th>\n",
       "      <th>cosine_similarity</th>\n",
       "    </tr>\n",
       "  </thead>\n",
       "  <tbody>\n",
       "    <tr>\n",
       "      <th>0</th>\n",
       "      <td>0</td>\n",
       "      <td>1</td>\n",
       "      <td>2</td>\n",
       "      <td>step step guide invest share market india</td>\n",
       "      <td>step step guide invest share market</td>\n",
       "      <td>0</td>\n",
       "      <td>step step guide invest share market india step...</td>\n",
       "      <td>[-0.6257038, -0.058758836, -0.12968901, -0.516...</td>\n",
       "      <td>[-0.63222355, -0.1393639, 0.108254544, -0.6018...</td>\n",
       "      <td>0.972280</td>\n",
       "    </tr>\n",
       "    <tr>\n",
       "      <th>1</th>\n",
       "      <td>1</td>\n",
       "      <td>3</td>\n",
       "      <td>4</td>\n",
       "      <td>story kohinoor koh noor diamond</td>\n",
       "      <td>would happen indian government stole kohinoor ...</td>\n",
       "      <td>0</td>\n",
       "      <td>story kohinoor koh noor diamond would happen i...</td>\n",
       "      <td>[0.1477594, 0.098376706, -0.26705372, 0.275178...</td>\n",
       "      <td>[-0.44289947, 0.6123331, -0.291016, 0.4183291,...</td>\n",
       "      <td>0.112568</td>\n",
       "    </tr>\n",
       "    <tr>\n",
       "      <th>2</th>\n",
       "      <td>2</td>\n",
       "      <td>5</td>\n",
       "      <td>6</td>\n",
       "      <td>increase speed internet connection using vpn</td>\n",
       "      <td>internet speed increased hacking dns</td>\n",
       "      <td>0</td>\n",
       "      <td>increase speed internet connection using vpn i...</td>\n",
       "      <td>[-1.3001851, 0.29322112, 0.6113028, 0.06781948...</td>\n",
       "      <td>[-0.92024004, 0.085826054, 0.5727602, -0.05579...</td>\n",
       "      <td>0.872268</td>\n",
       "    </tr>\n",
       "    <tr>\n",
       "      <th>3</th>\n",
       "      <td>3</td>\n",
       "      <td>7</td>\n",
       "      <td>8</td>\n",
       "      <td>mentally lonely solve</td>\n",
       "      <td>find remainder math 23 24 math divided 24 23</td>\n",
       "      <td>0</td>\n",
       "      <td>mentally lonely solve find remainder math 23 2...</td>\n",
       "      <td>[0.1787347, 0.8152983, 0.75831634, 0.13263746,...</td>\n",
       "      <td>[-0.38670033, 0.22578491, 1.1668468, 0.0832755...</td>\n",
       "      <td>0.340145</td>\n",
       "    </tr>\n",
       "    <tr>\n",
       "      <th>4</th>\n",
       "      <td>4</td>\n",
       "      <td>9</td>\n",
       "      <td>10</td>\n",
       "      <td>one dissolve water quikly sugar salt methane c...</td>\n",
       "      <td>fish would survive salt water</td>\n",
       "      <td>0</td>\n",
       "      <td>one dissolve water quikly sugar salt methane c...</td>\n",
       "      <td>[-0.91777456, 0.60340345, -0.10864296, -0.1256...</td>\n",
       "      <td>[-1.4659684, 1.0304499, -0.034118466, 0.395234...</td>\n",
       "      <td>0.820043</td>\n",
       "    </tr>\n",
       "  </tbody>\n",
       "</table>\n",
       "</div>"
      ],
      "text/plain": [
       "   id  qid1  qid2                                          question1  \\\n",
       "0   0     1     2          step step guide invest share market india   \n",
       "1   1     3     4                    story kohinoor koh noor diamond   \n",
       "2   2     5     6       increase speed internet connection using vpn   \n",
       "3   3     7     8                              mentally lonely solve   \n",
       "4   4     9    10  one dissolve water quikly sugar salt methane c...   \n",
       "\n",
       "                                           question2  is_duplicate  \\\n",
       "0                step step guide invest share market             0   \n",
       "1  would happen indian government stole kohinoor ...             0   \n",
       "2               internet speed increased hacking dns             0   \n",
       "3       find remainder math 23 24 math divided 24 23             0   \n",
       "4                      fish would survive salt water             0   \n",
       "\n",
       "                                                text  \\\n",
       "0  step step guide invest share market india step...   \n",
       "1  story kohinoor koh noor diamond would happen i...   \n",
       "2  increase speed internet connection using vpn i...   \n",
       "3  mentally lonely solve find remainder math 23 2...   \n",
       "4  one dissolve water quikly sugar salt methane c...   \n",
       "\n",
       "                                       w2v_question1  \\\n",
       "0  [-0.6257038, -0.058758836, -0.12968901, -0.516...   \n",
       "1  [0.1477594, 0.098376706, -0.26705372, 0.275178...   \n",
       "2  [-1.3001851, 0.29322112, 0.6113028, 0.06781948...   \n",
       "3  [0.1787347, 0.8152983, 0.75831634, 0.13263746,...   \n",
       "4  [-0.91777456, 0.60340345, -0.10864296, -0.1256...   \n",
       "\n",
       "                                       w2v_question2  cosine_similarity  \n",
       "0  [-0.63222355, -0.1393639, 0.108254544, -0.6018...           0.972280  \n",
       "1  [-0.44289947, 0.6123331, -0.291016, 0.4183291,...           0.112568  \n",
       "2  [-0.92024004, 0.085826054, 0.5727602, -0.05579...           0.872268  \n",
       "3  [-0.38670033, 0.22578491, 1.1668468, 0.0832755...           0.340145  \n",
       "4  [-1.4659684, 1.0304499, -0.034118466, 0.395234...           0.820043  "
      ]
     },
     "execution_count": 41,
     "metadata": {},
     "output_type": "execute_result"
    }
   ],
   "source": [
    "df.head()"
   ]
  },
  {
   "cell_type": "code",
   "execution_count": 42,
   "metadata": {
    "tags": []
   },
   "outputs": [
    {
     "data": {
      "text/plain": [
       "id                   0\n",
       "qid1                 0\n",
       "qid2                 0\n",
       "question1            0\n",
       "question2            0\n",
       "is_duplicate         0\n",
       "text                 0\n",
       "w2v_question1        0\n",
       "w2v_question2        0\n",
       "cosine_similarity    0\n",
       "dtype: int64"
      ]
     },
     "execution_count": 42,
     "metadata": {},
     "output_type": "execute_result"
    }
   ],
   "source": [
    "df.isnull().sum()"
   ]
  },
  {
   "cell_type": "code",
   "execution_count": 43,
   "metadata": {
    "tags": []
   },
   "outputs": [],
   "source": [
    "# Calculate cosine similarity\n",
    "df['cosine_similarity'] = df.apply(lambda row: 1 - cosine(row['w2v_question1'], row['w2v_question2']), axis=1)\n"
   ]
  },
  {
   "cell_type": "code",
   "execution_count": null,
   "metadata": {},
   "outputs": [],
   "source": []
  },
  {
   "cell_type": "markdown",
   "metadata": {
    "tags": []
   },
   "source": [
    "#### Just try only the feature 'cosine_similarity' to train "
   ]
  },
  {
   "cell_type": "code",
   "execution_count": 44,
   "metadata": {
    "tags": []
   },
   "outputs": [],
   "source": [
    "# Train-test split\n",
    "X = df['cosine_similarity']\n",
    "y = df['is_duplicate']\n",
    "X_train, X_test, y_train, y_test = train_test_split(X, y, test_size=0.2, random_state=42)"
   ]
  },
  {
   "cell_type": "code",
   "execution_count": 46,
   "metadata": {
    "tags": []
   },
   "outputs": [],
   "source": [
    "# Prepare the input data\n",
    "X = df['cosine_similarity'].values.reshape(-1, 1)\n",
    "y = df['is_duplicate']\n",
    "\n",
    "# Split the dataset into a training set (80%) and a test set (20%)\n",
    "X_train, X_test, y_train, y_test = train_test_split(X, y, test_size=0.2, random_state=42)\n",
    "\n"
   ]
  },
  {
   "cell_type": "markdown",
   "metadata": {},
   "source": [
    "- Logistic Regression"
   ]
  },
  {
   "cell_type": "code",
   "execution_count": 47,
   "metadata": {
    "tags": []
   },
   "outputs": [
    {
     "name": "stdout",
     "output_type": "stream",
     "text": [
      "Word2Vec Accuracy:  0.655321675035247\n",
      "Word2Vec F1 Score:  0.4911633681443073\n"
     ]
    }
   ],
   "source": [
    "# Train the Logistic Regression model\n",
    "lr_w2v = LogisticRegression()\n",
    "lr_w2v.fit(X_train, y_train)\n",
    "\n",
    "# Make predictions and evaluate the model\n",
    "y_pred_w2v = lr_w2v.predict(X_test)\n",
    "print(\"Word2Vec Accuracy: \", accuracy_score(y_test, y_pred_w2v))\n",
    "print(\"Word2Vec F1 Score: \", f1_score(y_test, y_pred_w2v))"
   ]
  },
  {
   "cell_type": "markdown",
   "metadata": {},
   "source": [
    "- Random Forest"
   ]
  },
  {
   "cell_type": "code",
   "execution_count": 51,
   "metadata": {
    "tags": []
   },
   "outputs": [
    {
     "name": "stdout",
     "output_type": "stream",
     "text": [
      "Word2Vec model evaluation:\n",
      "Accuracy: 0.6607\n",
      "Precision: 0.5414\n",
      "Recall: 0.5702\n",
      "F1 Score: 0.5554\n"
     ]
    }
   ],
   "source": [
    "#  Random Forest Classifier\n",
    "clf_w2v = RandomForestClassifier(random_state=42)\n",
    "clf_w2v.fit(X_train, y_train)\n",
    "\n",
    "# Predict on the test set\n",
    "y_pred_w2v = clf_w2v.predict(X_test)\n",
    "\n",
    "# Evaluate the model\n",
    "accuracy_w2v = accuracy_score(y_test, y_pred_w2v)\n",
    "precision_w2v = precision_score(y_test, y_pred_w2v)\n",
    "recall_w2v = recall_score(y_test, y_pred_w2v)\n",
    "f1_w2v = f1_score(y_test, y_pred_w2v)\n",
    "\n",
    "print(\"Word2Vec model evaluation:\")\n",
    "print(f\"Accuracy: {accuracy_w2v:.4f}\")\n",
    "print(f\"Precision: {precision_w2v:.4f}\")\n",
    "print(f\"Recall: {recall_w2v:.4f}\")\n",
    "print(f\"F1 Score: {f1_w2v:.4f}\")"
   ]
  },
  {
   "cell_type": "code",
   "execution_count": null,
   "metadata": {},
   "outputs": [],
   "source": []
  },
  {
   "cell_type": "markdown",
   "metadata": {},
   "source": [
    "#### Try to combine other features together to trian the models"
   ]
  },
  {
   "cell_type": "code",
   "execution_count": 52,
   "metadata": {
    "tags": []
   },
   "outputs": [],
   "source": [
    "w2v_q1 = pd.DataFrame(df['w2v_question1'].values.tolist())\n",
    "w2v_q2 = pd.DataFrame(df['w2v_question2'].values.tolist())\n",
    "df_w2v = w2v_q1.subtract(w2v_q2)\n"
   ]
  },
  {
   "cell_type": "code",
   "execution_count": 54,
   "metadata": {
    "tags": []
   },
   "outputs": [],
   "source": [
    "# Concatenate the features\n",
    "X = np.hstack([\n",
    "    df['cosine_similarity'].values.reshape(-1, 1),\n",
    "    np.array(df['w2v_question1'].tolist()),\n",
    "    np.array(df['w2v_question2'].tolist())\n",
    "])\n",
    "\n",
    "# Split the dataset into a training set (80%) and a test set (20%)\n",
    "X_train_w2v, X_test_w2v, y_train_w2v, y_test_w2v = train_test_split(X, y, test_size=0.2, random_state=42)\n"
   ]
  },
  {
   "cell_type": "markdown",
   "metadata": {},
   "source": [
    "- LogisticRegression"
   ]
  },
  {
   "cell_type": "code",
   "execution_count": 55,
   "metadata": {
    "tags": []
   },
   "outputs": [
    {
     "name": "stdout",
     "output_type": "stream",
     "text": [
      "Word2Vec Accuracy:  0.7357960869672759\n",
      "Word2Vec F1 Score:  0.6107396002259434\n"
     ]
    }
   ],
   "source": [
    "lr_w2v = LogisticRegression()\n",
    "lr_w2v.fit(X_train_w2v, y_train_w2v)\n",
    "y_pred_w2v = lr_w2v.predict(X_test_w2v)\n",
    "print(\"Word2Vec Accuracy: \", accuracy_score(y_test_w2v, y_pred_w2v))\n",
    "print(\"Word2Vec F1 Score: \", f1_score(y_test_w2v, y_pred_w2v))\n"
   ]
  },
  {
   "cell_type": "markdown",
   "metadata": {},
   "source": [
    "- XGBoost"
   ]
  },
  {
   "cell_type": "code",
   "execution_count": 56,
   "metadata": {
    "tags": []
   },
   "outputs": [
    {
     "name": "stdout",
     "output_type": "stream",
     "text": [
      "XGBoost Accuracy: 0.7885799797175295\n",
      "XGBoost F1 Score: 0.6948574692536994\n"
     ]
    }
   ],
   "source": [
    "# XGBoost\n",
    "xgb_model = XGBClassifier()\n",
    "xgb_model.fit(X_train_w2v, y_train)\n",
    "xgb_predictions = xgb_model.predict(X_test_w2v)\n",
    "print('XGBoost Accuracy:', accuracy_score(y_test, xgb_predictions))\n",
    "print('XGBoost F1 Score:', f1_score(y_test, xgb_predictions))"
   ]
  },
  {
   "cell_type": "markdown",
   "metadata": {},
   "source": [
    "- Random Forest Classifier"
   ]
  },
  {
   "cell_type": "code",
   "execution_count": 58,
   "metadata": {
    "tags": []
   },
   "outputs": [
    {
     "name": "stdout",
     "output_type": "stream",
     "text": [
      "Word2Vec model evaluation:\n",
      "Accuracy: 0.8205\n",
      "Precision: 0.8243\n",
      "Recall: 0.6573\n",
      "F1 Score: 0.7314\n"
     ]
    }
   ],
   "source": [
    "# Random Forest Classifier\n",
    "clf_w2v = RandomForestClassifier(random_state=42)\n",
    "clf_w2v.fit(X_train_w2v, y_train_w2v)\n",
    "\n",
    "# Predict on the test set\n",
    "y_pred_w2v = clf_w2v.predict(X_test_w2v)\n",
    "\n",
    "# Evaluate the model\n",
    "accuracy_w2v = accuracy_score(y_test_w2v, y_pred_w2v)\n",
    "precision_w2v = precision_score(y_test_w2v, y_pred_w2v)\n",
    "recall_w2v = recall_score(y_test_w2v, y_pred_w2v)\n",
    "f1_w2v = f1_score(y_test_w2v, y_pred_w2v)\n",
    "\n",
    "print(\"Word2Vec model evaluation:\")\n",
    "print(f\"Accuracy: {accuracy_w2v:.4f}\")\n",
    "print(f\"Precision: {precision_w2v:.4f}\")\n",
    "print(f\"Recall: {recall_w2v:.4f}\")\n",
    "print(f\"F1 Score: {f1_w2v:.4f}\")\n"
   ]
  },
  {
   "cell_type": "code",
   "execution_count": 59,
   "metadata": {
    "tags": []
   },
   "outputs": [
    {
     "data": {
      "image/png": "[encoded data removed]",
      "text/plain": [
       "<Figure size 500x500 with 2 Axes>"
      ]
     },
     "metadata": {},
     "output_type": "display_data"
    }
   ],
   "source": [
    "# Word2Vec confusion matrix\n",
    "confusion_matrix_w2v = confusion_matrix(y_test_w2v, y_pred_w2v)\n",
    "plot_confusion_matrix(confusion_matrix_w2v, title='Word2Vec Confusion Matrix')\n"
   ]
  },
  {
   "cell_type": "code",
   "execution_count": null,
   "metadata": {},
   "outputs": [],
   "source": []
  },
  {
   "cell_type": "code",
   "execution_count": null,
   "metadata": {},
   "outputs": [],
   "source": []
  }
 ],
 "metadata": {
  "kernelspec": {
   "display_name": "Python 3 (ipykernel)",
   "language": "python",
   "name": "python3"
  },
  "language_info": {
   "codemirror_mode": {
    "name": "ipython",
    "version": 3
   },
   "file_extension": ".py",
   "mimetype": "text/x-python",
   "name": "python",
   "nbconvert_exporter": "python",
   "pygments_lexer": "ipython3",
   "version": "3.10.9"
  }
 },
 "nbformat": 4,
 "nbformat_minor": 4
}
