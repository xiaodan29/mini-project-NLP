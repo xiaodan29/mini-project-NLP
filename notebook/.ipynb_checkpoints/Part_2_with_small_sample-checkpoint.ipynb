{
  "cells": [
    {
      "cell_type": "markdown",
      "metadata": {
        "id": "IKJ2fZ83o8qJ"
      },
      "source": [
        "## Identifying Duplicate Questions"
      ]
    },
    {
      "cell_type": "markdown",
      "source": [
        "I skipped data exploration and cleaning part, becasue all the work is done by part 1, i just loading the cleaned csv which i saved on part 1. \n",
        "This part 2, I will focus on training model with different combined features and neural network (feedforward neural network model)"
      ],
      "metadata": {
        "id": "DuxynOVPZksB"
      }
    },
    {
      "cell_type": "code",
      "source": [],
      "metadata": {
        "id": "zYbstLIrZkOR"
      },
      "execution_count": null,
      "outputs": []
    },
    {
      "cell_type": "code",
      "execution_count": 1,
      "metadata": {
        "tags": [],
        "id": "RnGK1thxo8qN"
      },
      "outputs": [],
      "source": [
        "import pandas as pd\n",
        "import numpy as np\n",
        "import matplotlib.pyplot as plt\n",
        "import seaborn as sns\n",
        "from sklearn.feature_extraction.text import CountVectorizer\n",
        "from sklearn.feature_extraction.text import TfidfVectorizer\n",
        "from sklearn.linear_model import LogisticRegression\n",
        "from sklearn.model_selection import train_test_split\n",
        "from sklearn.metrics import accuracy_score, f1_score"
      ]
    },
    {
      "cell_type": "code",
      "execution_count": 2,
      "metadata": {
        "tags": [],
        "id": "G7GikjYio8qP",
        "outputId": "05bafd18-175f-407f-8360-3228b6350635",
        "colab": {
          "base_uri": "https://localhost:8080/",
          "height": 206
        }
      },
      "outputs": [
        {
          "output_type": "execute_result",
          "data": {
            "text/plain": [
              "   id  qid1  qid2                                          question1  \\\n",
              "0   0     1   2.0          step step guide invest share market india   \n",
              "1   1     3   4.0                    story kohinoor koh noor diamond   \n",
              "2   2     5   6.0       increase speed internet connection using vpn   \n",
              "3   3     7   8.0                              mentally lonely solve   \n",
              "4   4     9  10.0  one dissolve water quikly sugar salt methane c...   \n",
              "\n",
              "                                           question2  is_duplicate  \n",
              "0                step step guide invest share market           0.0  \n",
              "1  would happen indian government stole kohinoor ...           0.0  \n",
              "2               internet speed increased hacking dns           0.0  \n",
              "3       find remainder math 23 24 math divided 24 23           0.0  \n",
              "4                      fish would survive salt water           0.0  "
            ],
            "text/html": [
              "\n",
              "  <div id=\"df-94456209-0dfe-4ca3-8e77-55c4e1c6eb66\">\n",
              "    <div class=\"colab-df-container\">\n",
              "      <div>\n",
              "<style scoped>\n",
              "    .dataframe tbody tr th:only-of-type {\n",
              "        vertical-align: middle;\n",
              "    }\n",
              "\n",
              "    .dataframe tbody tr th {\n",
              "        vertical-align: top;\n",
              "    }\n",
              "\n",
              "    .dataframe thead th {\n",
              "        text-align: right;\n",
              "    }\n",
              "</style>\n",
              "<table border=\"1\" class=\"dataframe\">\n",
              "  <thead>\n",
              "    <tr style=\"text-align: right;\">\n",
              "      <th></th>\n",
              "      <th>id</th>\n",
              "      <th>qid1</th>\n",
              "      <th>qid2</th>\n",
              "      <th>question1</th>\n",
              "      <th>question2</th>\n",
              "      <th>is_duplicate</th>\n",
              "    </tr>\n",
              "  </thead>\n",
              "  <tbody>\n",
              "    <tr>\n",
              "      <th>0</th>\n",
              "      <td>0</td>\n",
              "      <td>1</td>\n",
              "      <td>2.0</td>\n",
              "      <td>step step guide invest share market india</td>\n",
              "      <td>step step guide invest share market</td>\n",
              "      <td>0.0</td>\n",
              "    </tr>\n",
              "    <tr>\n",
              "      <th>1</th>\n",
              "      <td>1</td>\n",
              "      <td>3</td>\n",
              "      <td>4.0</td>\n",
              "      <td>story kohinoor koh noor diamond</td>\n",
              "      <td>would happen indian government stole kohinoor ...</td>\n",
              "      <td>0.0</td>\n",
              "    </tr>\n",
              "    <tr>\n",
              "      <th>2</th>\n",
              "      <td>2</td>\n",
              "      <td>5</td>\n",
              "      <td>6.0</td>\n",
              "      <td>increase speed internet connection using vpn</td>\n",
              "      <td>internet speed increased hacking dns</td>\n",
              "      <td>0.0</td>\n",
              "    </tr>\n",
              "    <tr>\n",
              "      <th>3</th>\n",
              "      <td>3</td>\n",
              "      <td>7</td>\n",
              "      <td>8.0</td>\n",
              "      <td>mentally lonely solve</td>\n",
              "      <td>find remainder math 23 24 math divided 24 23</td>\n",
              "      <td>0.0</td>\n",
              "    </tr>\n",
              "    <tr>\n",
              "      <th>4</th>\n",
              "      <td>4</td>\n",
              "      <td>9</td>\n",
              "      <td>10.0</td>\n",
              "      <td>one dissolve water quikly sugar salt methane c...</td>\n",
              "      <td>fish would survive salt water</td>\n",
              "      <td>0.0</td>\n",
              "    </tr>\n",
              "  </tbody>\n",
              "</table>\n",
              "</div>\n",
              "      <button class=\"colab-df-convert\" onclick=\"convertToInteractive('df-94456209-0dfe-4ca3-8e77-55c4e1c6eb66')\"\n",
              "              title=\"Convert this dataframe to an interactive table.\"\n",
              "              style=\"display:none;\">\n",
              "        \n",
              "  <svg xmlns=\"http://www.w3.org/2000/svg\" height=\"24px\"viewBox=\"0 0 24 24\"\n",
              "       width=\"24px\">\n",
              "    <path d=\"M0 0h24v24H0V0z\" fill=\"none\"/>\n",
              "    <path d=\"M18.56 5.44l.94 2.06.94-2.06 2.06-.94-2.06-.94-.94-2.06-.94 2.06-2.06.94zm-11 1L8.5 8.5l.94-2.06 2.06-.94-2.06-.94L8.5 2.5l-.94 2.06-2.06.94zm10 10l.94 2.06.94-2.06 2.06-.94-2.06-.94-.94-2.06-.94 2.06-2.06.94z\"/><path d=\"M17.41 7.96l-1.37-1.37c-.4-.4-.92-.59-1.43-.59-.52 0-1.04.2-1.43.59L10.3 9.45l-7.72 7.72c-.78.78-.78 2.05 0 2.83L4 21.41c.39.39.9.59 1.41.59.51 0 1.02-.2 1.41-.59l7.78-7.78 2.81-2.81c.8-.78.8-2.07 0-2.86zM5.41 20L4 18.59l7.72-7.72 1.47 1.35L5.41 20z\"/>\n",
              "  </svg>\n",
              "      </button>\n",
              "      \n",
              "  <style>\n",
              "    .colab-df-container {\n",
              "      display:flex;\n",
              "      flex-wrap:wrap;\n",
              "      gap: 12px;\n",
              "    }\n",
              "\n",
              "    .colab-df-convert {\n",
              "      background-color: #E8F0FE;\n",
              "      border: none;\n",
              "      border-radius: 50%;\n",
              "      cursor: pointer;\n",
              "      display: none;\n",
              "      fill: #1967D2;\n",
              "      height: 32px;\n",
              "      padding: 0 0 0 0;\n",
              "      width: 32px;\n",
              "    }\n",
              "\n",
              "    .colab-df-convert:hover {\n",
              "      background-color: #E2EBFA;\n",
              "      box-shadow: 0px 1px 2px rgba(60, 64, 67, 0.3), 0px 1px 3px 1px rgba(60, 64, 67, 0.15);\n",
              "      fill: #174EA6;\n",
              "    }\n",
              "\n",
              "    [theme=dark] .colab-df-convert {\n",
              "      background-color: #3B4455;\n",
              "      fill: #D2E3FC;\n",
              "    }\n",
              "\n",
              "    [theme=dark] .colab-df-convert:hover {\n",
              "      background-color: #434B5C;\n",
              "      box-shadow: 0px 1px 3px 1px rgba(0, 0, 0, 0.15);\n",
              "      filter: drop-shadow(0px 1px 2px rgba(0, 0, 0, 0.3));\n",
              "      fill: #FFFFFF;\n",
              "    }\n",
              "  </style>\n",
              "\n",
              "      <script>\n",
              "        const buttonEl =\n",
              "          document.querySelector('#df-94456209-0dfe-4ca3-8e77-55c4e1c6eb66 button.colab-df-convert');\n",
              "        buttonEl.style.display =\n",
              "          google.colab.kernel.accessAllowed ? 'block' : 'none';\n",
              "\n",
              "        async function convertToInteractive(key) {\n",
              "          const element = document.querySelector('#df-94456209-0dfe-4ca3-8e77-55c4e1c6eb66');\n",
              "          const dataTable =\n",
              "            await google.colab.kernel.invokeFunction('convertToInteractive',\n",
              "                                                     [key], {});\n",
              "          if (!dataTable) return;\n",
              "\n",
              "          const docLinkHtml = 'Like what you see? Visit the ' +\n",
              "            '<a target=\"_blank\" href=https://colab.research.google.com/notebooks/data_table.ipynb>data table notebook</a>'\n",
              "            + ' to learn more about interactive tables.';\n",
              "          element.innerHTML = '';\n",
              "          dataTable['output_type'] = 'display_data';\n",
              "          await google.colab.output.renderOutput(dataTable, element);\n",
              "          const docLink = document.createElement('div');\n",
              "          docLink.innerHTML = docLinkHtml;\n",
              "          element.appendChild(docLink);\n",
              "        }\n",
              "      </script>\n",
              "    </div>\n",
              "  </div>\n",
              "  "
            ]
          },
          "metadata": {},
          "execution_count": 2
        }
      ],
      "source": [
        "df = pd.read_csv(\"df_cleaned.csv\")\n",
        "df.head()"
      ]
    },
    {
      "cell_type": "code",
      "execution_count": 3,
      "metadata": {
        "tags": [],
        "id": "wmQ16M8io8qW"
      },
      "outputs": [],
      "source": [
        "# Combine 'question1' and 'question2' into a single 'text' column\n",
        "df['text'] = df['question1'] + ' ' + df['question2']"
      ]
    },
    {
      "cell_type": "code",
      "execution_count": 6,
      "metadata": {
        "tags": [],
        "id": "0H5UXCg-o8qX",
        "outputId": "1c2c8980-1e03-4f74-d11e-b9c663348763",
        "colab": {
          "base_uri": "https://localhost:8080/"
        }
      },
      "outputs": [
        {
          "output_type": "stream",
          "name": "stdout",
          "text": [
            "best: 24993\n",
            "get: 14203\n",
            "india: 10432\n",
            "people: 9435\n",
            "like: 9413\n",
            "way: 8920\n",
            "good: 8674\n",
            "would: 8357\n",
            "one: 7604\n",
            "make: 7302\n",
            "quora: 6395\n",
            "life: 6095\n",
            "time: 6023\n",
            "difference: 5452\n",
            "year: 5346\n",
            "money: 5145\n",
            "know: 4986\n",
            "learn: 4552\n",
            "thing: 4475\n",
            "question: 4466\n",
            "use: 4433\n",
            "indian: 4415\n",
            "new: 4348\n",
            "work: 4312\n",
            "someone: 4281\n"
          ]
        }
      ],
      "source": [
        "# Check the word duplicate frequency in text\n",
        "from collections import Counter\n",
        "\n",
        "df['text'] = df['text'].fillna('')\n",
        "all_words = [word for text in df['text'] for word in text.split()]\n",
        "\n",
        "# Split the text into words and flatten the list of words\n",
        "all_words = [word for text in df['text'] for word in text.split()]\n",
        "\n",
        "# Use Counter to count the frequency of each word\n",
        "word_frequencies = Counter(all_words)\n",
        "\n",
        "# Find duplicate words (words with a frequency greater than 1)\n",
        "duplicate_words = {word: count for word, count in word_frequencies.items() if count > 1}\n",
        "\n",
        "# Sort duplicate words by frequency\n",
        "sorted_duplicate_words = dict(sorted(duplicate_words.items(), key=lambda x: x[1], reverse=True))\n",
        "\n",
        "counter = 0\n",
        "for word, frequency in sorted_duplicate_words.items():\n",
        "    if counter < 25:\n",
        "        print(f\"{word}: {frequency}\")\n",
        "        counter += 1\n",
        "    else:\n",
        "        break\n",
        "\n"
      ]
    },
    {
      "cell_type": "code",
      "source": [
        "from google.colab import drive\n",
        "drive.mount('/content/drive')"
      ],
      "metadata": {
        "id": "W5eMqYxkWJZK"
      },
      "execution_count": null,
      "outputs": []
    },
    {
      "cell_type": "code",
      "execution_count": 7,
      "metadata": {
        "tags": [],
        "id": "7H3mPdgUo8qX",
        "outputId": "75e0597a-17e1-40a7-d67f-0ca6b402b33e",
        "colab": {
          "base_uri": "https://localhost:8080/",
          "height": 610
        }
      },
      "outputs": [
        {
          "output_type": "display_data",
          "data": {
            "text/plain": [
              "<Figure size 1200x600 with 1 Axes>"
            ],
            "image/png": "[encoded data removed]"
          },
          "metadata": {}
        }
      ],
      "source": [
        "# Set the number of top words to display\n",
        "top_n = 20\n",
        "\n",
        "# Get the top_n most frequent duplicate words\n",
        "top_duplicate_words = dict(list(sorted_duplicate_words.items())[:top_n])\n",
        "\n",
        "# Plot the bar chart\n",
        "plt.figure(figsize=(12, 6))\n",
        "plt.bar(top_duplicate_words.keys(), top_duplicate_words.values())\n",
        "plt.xlabel('Words')\n",
        "plt.ylabel('Frequency')\n",
        "plt.title(f'Top {top_n} Most Frequent Duplicate Words')\n",
        "plt.xticks(rotation=45)\n",
        "plt.show()\n"
      ]
    },
    {
      "cell_type": "code",
      "execution_count": null,
      "metadata": {
        "tags": [],
        "id": "kshSmBdbo8qX"
      },
      "outputs": [],
      "source": []
    },
    {
      "cell_type": "markdown",
      "source": [
        "# - Try to use small sample to do modeling (because the whole dataset can not work functionly in my computer )"
      ],
      "metadata": {
        "id": "UBgZI2cFarCa"
      }
    },
    {
      "cell_type": "code",
      "execution_count": 9,
      "metadata": {
        "tags": [],
        "id": "7N6DlE-mo8qY"
      },
      "outputs": [],
      "source": [
        "n_df=df.sample(10000, random_state=20)"
      ]
    },
    {
      "cell_type": "code",
      "execution_count": 10,
      "metadata": {
        "tags": [],
        "id": "zRTreNu9o8qY",
        "outputId": "d1cdd963-5dc9-42b5-bd9e-fe1ac0c91aeb",
        "colab": {
          "base_uri": "https://localhost:8080/",
          "height": 206
        }
      },
      "outputs": [
        {
          "output_type": "execute_result",
          "data": {
            "text/plain": [
              "            id    qid1      qid2  \\\n",
              "123298  123298  199379   49397.0   \n",
              "94204    94204  157368  157369.0   \n",
              "70615    70615  121654  121655.0   \n",
              "21381    21381   40259   40260.0   \n",
              "81110    81110  137779  137780.0   \n",
              "\n",
              "                                                question1  \\\n",
              "123298                  ethic still relevant modern world   \n",
              "94204                          dirty business tactic know   \n",
              "70615   far jupiter sun proximity affect planet charac...   \n",
              "21381               best programming language learn first   \n",
              "81110                             stay motivated whatever   \n",
              "\n",
              "                                                question2  is_duplicate  \\\n",
              "123298  moral philosophy still relevant contemporary w...           1.0   \n",
              "94204   good tactic business development web developme...           0.0   \n",
              "70615   far pluto sun proximity affect planet characte...           0.0   \n",
              "21381             c best programming language learn first           0.0   \n",
              "81110   stay motivated achieve goal without procrastin...           0.0   \n",
              "\n",
              "                                                     text  \n",
              "123298  ethic still relevant modern world moral philos...  \n",
              "94204   dirty business tactic know good tactic busines...  \n",
              "70615   far jupiter sun proximity affect planet charac...  \n",
              "21381   best programming language learn first c best p...  \n",
              "81110   stay motivated whatever stay motivated achieve...  "
            ],
            "text/html": [
              "\n",
              "  <div id=\"df-bb4d5f6e-a27c-49ca-ae1c-9df79d5525a9\">\n",
              "    <div class=\"colab-df-container\">\n",
              "      <div>\n",
              "<style scoped>\n",
              "    .dataframe tbody tr th:only-of-type {\n",
              "        vertical-align: middle;\n",
              "    }\n",
              "\n",
              "    .dataframe tbody tr th {\n",
              "        vertical-align: top;\n",
              "    }\n",
              "\n",
              "    .dataframe thead th {\n",
              "        text-align: right;\n",
              "    }\n",
              "</style>\n",
              "<table border=\"1\" class=\"dataframe\">\n",
              "  <thead>\n",
              "    <tr style=\"text-align: right;\">\n",
              "      <th></th>\n",
              "      <th>id</th>\n",
              "      <th>qid1</th>\n",
              "      <th>qid2</th>\n",
              "      <th>question1</th>\n",
              "      <th>question2</th>\n",
              "      <th>is_duplicate</th>\n",
              "      <th>text</th>\n",
              "    </tr>\n",
              "  </thead>\n",
              "  <tbody>\n",
              "    <tr>\n",
              "      <th>123298</th>\n",
              "      <td>123298</td>\n",
              "      <td>199379</td>\n",
              "      <td>49397.0</td>\n",
              "      <td>ethic still relevant modern world</td>\n",
              "      <td>moral philosophy still relevant contemporary w...</td>\n",
              "      <td>1.0</td>\n",
              "      <td>ethic still relevant modern world moral philos...</td>\n",
              "    </tr>\n",
              "    <tr>\n",
              "      <th>94204</th>\n",
              "      <td>94204</td>\n",
              "      <td>157368</td>\n",
              "      <td>157369.0</td>\n",
              "      <td>dirty business tactic know</td>\n",
              "      <td>good tactic business development web developme...</td>\n",
              "      <td>0.0</td>\n",
              "      <td>dirty business tactic know good tactic busines...</td>\n",
              "    </tr>\n",
              "    <tr>\n",
              "      <th>70615</th>\n",
              "      <td>70615</td>\n",
              "      <td>121654</td>\n",
              "      <td>121655.0</td>\n",
              "      <td>far jupiter sun proximity affect planet charac...</td>\n",
              "      <td>far pluto sun proximity affect planet characte...</td>\n",
              "      <td>0.0</td>\n",
              "      <td>far jupiter sun proximity affect planet charac...</td>\n",
              "    </tr>\n",
              "    <tr>\n",
              "      <th>21381</th>\n",
              "      <td>21381</td>\n",
              "      <td>40259</td>\n",
              "      <td>40260.0</td>\n",
              "      <td>best programming language learn first</td>\n",
              "      <td>c best programming language learn first</td>\n",
              "      <td>0.0</td>\n",
              "      <td>best programming language learn first c best p...</td>\n",
              "    </tr>\n",
              "    <tr>\n",
              "      <th>81110</th>\n",
              "      <td>81110</td>\n",
              "      <td>137779</td>\n",
              "      <td>137780.0</td>\n",
              "      <td>stay motivated whatever</td>\n",
              "      <td>stay motivated achieve goal without procrastin...</td>\n",
              "      <td>0.0</td>\n",
              "      <td>stay motivated whatever stay motivated achieve...</td>\n",
              "    </tr>\n",
              "  </tbody>\n",
              "</table>\n",
              "</div>\n",
              "      <button class=\"colab-df-convert\" onclick=\"convertToInteractive('df-bb4d5f6e-a27c-49ca-ae1c-9df79d5525a9')\"\n",
              "              title=\"Convert this dataframe to an interactive table.\"\n",
              "              style=\"display:none;\">\n",
              "        \n",
              "  <svg xmlns=\"http://www.w3.org/2000/svg\" height=\"24px\"viewBox=\"0 0 24 24\"\n",
              "       width=\"24px\">\n",
              "    <path d=\"M0 0h24v24H0V0z\" fill=\"none\"/>\n",
              "    <path d=\"M18.56 5.44l.94 2.06.94-2.06 2.06-.94-2.06-.94-.94-2.06-.94 2.06-2.06.94zm-11 1L8.5 8.5l.94-2.06 2.06-.94-2.06-.94L8.5 2.5l-.94 2.06-2.06.94zm10 10l.94 2.06.94-2.06 2.06-.94-2.06-.94-.94-2.06-.94 2.06-2.06.94z\"/><path d=\"M17.41 7.96l-1.37-1.37c-.4-.4-.92-.59-1.43-.59-.52 0-1.04.2-1.43.59L10.3 9.45l-7.72 7.72c-.78.78-.78 2.05 0 2.83L4 21.41c.39.39.9.59 1.41.59.51 0 1.02-.2 1.41-.59l7.78-7.78 2.81-2.81c.8-.78.8-2.07 0-2.86zM5.41 20L4 18.59l7.72-7.72 1.47 1.35L5.41 20z\"/>\n",
              "  </svg>\n",
              "      </button>\n",
              "      \n",
              "  <style>\n",
              "    .colab-df-container {\n",
              "      display:flex;\n",
              "      flex-wrap:wrap;\n",
              "      gap: 12px;\n",
              "    }\n",
              "\n",
              "    .colab-df-convert {\n",
              "      background-color: #E8F0FE;\n",
              "      border: none;\n",
              "      border-radius: 50%;\n",
              "      cursor: pointer;\n",
              "      display: none;\n",
              "      fill: #1967D2;\n",
              "      height: 32px;\n",
              "      padding: 0 0 0 0;\n",
              "      width: 32px;\n",
              "    }\n",
              "\n",
              "    .colab-df-convert:hover {\n",
              "      background-color: #E2EBFA;\n",
              "      box-shadow: 0px 1px 2px rgba(60, 64, 67, 0.3), 0px 1px 3px 1px rgba(60, 64, 67, 0.15);\n",
              "      fill: #174EA6;\n",
              "    }\n",
              "\n",
              "    [theme=dark] .colab-df-convert {\n",
              "      background-color: #3B4455;\n",
              "      fill: #D2E3FC;\n",
              "    }\n",
              "\n",
              "    [theme=dark] .colab-df-convert:hover {\n",
              "      background-color: #434B5C;\n",
              "      box-shadow: 0px 1px 3px 1px rgba(0, 0, 0, 0.15);\n",
              "      filter: drop-shadow(0px 1px 2px rgba(0, 0, 0, 0.3));\n",
              "      fill: #FFFFFF;\n",
              "    }\n",
              "  </style>\n",
              "\n",
              "      <script>\n",
              "        const buttonEl =\n",
              "          document.querySelector('#df-bb4d5f6e-a27c-49ca-ae1c-9df79d5525a9 button.colab-df-convert');\n",
              "        buttonEl.style.display =\n",
              "          google.colab.kernel.accessAllowed ? 'block' : 'none';\n",
              "\n",
              "        async function convertToInteractive(key) {\n",
              "          const element = document.querySelector('#df-bb4d5f6e-a27c-49ca-ae1c-9df79d5525a9');\n",
              "          const dataTable =\n",
              "            await google.colab.kernel.invokeFunction('convertToInteractive',\n",
              "                                                     [key], {});\n",
              "          if (!dataTable) return;\n",
              "\n",
              "          const docLinkHtml = 'Like what you see? Visit the ' +\n",
              "            '<a target=\"_blank\" href=https://colab.research.google.com/notebooks/data_table.ipynb>data table notebook</a>'\n",
              "            + ' to learn more about interactive tables.';\n",
              "          element.innerHTML = '';\n",
              "          dataTable['output_type'] = 'display_data';\n",
              "          await google.colab.output.renderOutput(dataTable, element);\n",
              "          const docLink = document.createElement('div');\n",
              "          docLink.innerHTML = docLinkHtml;\n",
              "          element.appendChild(docLink);\n",
              "        }\n",
              "      </script>\n",
              "    </div>\n",
              "  </div>\n",
              "  "
            ]
          },
          "metadata": {},
          "execution_count": 10
        }
      ],
      "source": [
        "n_df.head()"
      ]
    },
    {
      "cell_type": "code",
      "execution_count": 11,
      "metadata": {
        "tags": [],
        "id": "rWnPkx5ko8qY"
      },
      "outputs": [],
      "source": [
        "top_n = 20  # Set the number of top words to consider\n",
        "top_n_words = [word for word, _ in list(sorted_duplicate_words.items())[:top_n]]\n",
        "\n",
        "def binary_presence(text, word):\n",
        "    return 1 if word in text else 0\n",
        "\n",
        "for word in top_n_words:\n",
        "    n_df[f'has_{word}'] = n_df['text'].apply(lambda x: binary_presence(x, word))\n"
      ]
    },
    {
      "cell_type": "code",
      "execution_count": 12,
      "metadata": {
        "tags": [],
        "id": "QenGJdeQo8qZ",
        "outputId": "aef5201b-1569-40b6-cbc2-3fe4e5b48067",
        "colab": {
          "base_uri": "https://localhost:8080/",
          "height": 647
        }
      },
      "outputs": [
        {
          "output_type": "execute_result",
          "data": {
            "text/plain": [
              "            id    qid1      qid2  \\\n",
              "123298  123298  199379   49397.0   \n",
              "94204    94204  157368  157369.0   \n",
              "70615    70615  121654  121655.0   \n",
              "21381    21381   40259   40260.0   \n",
              "81110    81110  137779  137780.0   \n",
              "\n",
              "                                                question1  \\\n",
              "123298                  ethic still relevant modern world   \n",
              "94204                          dirty business tactic know   \n",
              "70615   far jupiter sun proximity affect planet charac...   \n",
              "21381               best programming language learn first   \n",
              "81110                             stay motivated whatever   \n",
              "\n",
              "                                                question2  is_duplicate  \\\n",
              "123298  moral philosophy still relevant contemporary w...           1.0   \n",
              "94204   good tactic business development web developme...           0.0   \n",
              "70615   far pluto sun proximity affect planet characte...           0.0   \n",
              "21381             c best programming language learn first           0.0   \n",
              "81110   stay motivated achieve goal without procrastin...           0.0   \n",
              "\n",
              "                                                     text  has_best  has_get  \\\n",
              "123298  ethic still relevant modern world moral philos...         0        0   \n",
              "94204   dirty business tactic know good tactic busines...         0        0   \n",
              "70615   far jupiter sun proximity affect planet charac...         0        0   \n",
              "21381   best programming language learn first c best p...         1        0   \n",
              "81110   stay motivated whatever stay motivated achieve...         0        0   \n",
              "\n",
              "        has_india  ...  has_quora  has_life  has_time  has_difference  \\\n",
              "123298          0  ...          0         0         0               0   \n",
              "94204           0  ...          0         0         0               0   \n",
              "70615           0  ...          0         0         0               0   \n",
              "21381           0  ...          0         0         0               0   \n",
              "81110           0  ...          0         0         0               0   \n",
              "\n",
              "        has_year  has_money  has_know  has_learn  has_thing  has_question  \n",
              "123298         0          0         0          0          0             0  \n",
              "94204          0          0         1          0          0             0  \n",
              "70615          0          0         0          0          0             0  \n",
              "21381          0          0         0          1          0             0  \n",
              "81110          0          0         0          0          0             0  \n",
              "\n",
              "[5 rows x 27 columns]"
            ],
            "text/html": [
              "\n",
              "  <div id=\"df-58ec9b17-899c-43cd-a417-3eb199ddfde5\">\n",
              "    <div class=\"colab-df-container\">\n",
              "      <div>\n",
              "<style scoped>\n",
              "    .dataframe tbody tr th:only-of-type {\n",
              "        vertical-align: middle;\n",
              "    }\n",
              "\n",
              "    .dataframe tbody tr th {\n",
              "        vertical-align: top;\n",
              "    }\n",
              "\n",
              "    .dataframe thead th {\n",
              "        text-align: right;\n",
              "    }\n",
              "</style>\n",
              "<table border=\"1\" class=\"dataframe\">\n",
              "  <thead>\n",
              "    <tr style=\"text-align: right;\">\n",
              "      <th></th>\n",
              "      <th>id</th>\n",
              "      <th>qid1</th>\n",
              "      <th>qid2</th>\n",
              "      <th>question1</th>\n",
              "      <th>question2</th>\n",
              "      <th>is_duplicate</th>\n",
              "      <th>text</th>\n",
              "      <th>has_best</th>\n",
              "      <th>has_get</th>\n",
              "      <th>has_india</th>\n",
              "      <th>...</th>\n",
              "      <th>has_quora</th>\n",
              "      <th>has_life</th>\n",
              "      <th>has_time</th>\n",
              "      <th>has_difference</th>\n",
              "      <th>has_year</th>\n",
              "      <th>has_money</th>\n",
              "      <th>has_know</th>\n",
              "      <th>has_learn</th>\n",
              "      <th>has_thing</th>\n",
              "      <th>has_question</th>\n",
              "    </tr>\n",
              "  </thead>\n",
              "  <tbody>\n",
              "    <tr>\n",
              "      <th>123298</th>\n",
              "      <td>123298</td>\n",
              "      <td>199379</td>\n",
              "      <td>49397.0</td>\n",
              "      <td>ethic still relevant modern world</td>\n",
              "      <td>moral philosophy still relevant contemporary w...</td>\n",
              "      <td>1.0</td>\n",
              "      <td>ethic still relevant modern world moral philos...</td>\n",
              "      <td>0</td>\n",
              "      <td>0</td>\n",
              "      <td>0</td>\n",
              "      <td>...</td>\n",
              "      <td>0</td>\n",
              "      <td>0</td>\n",
              "      <td>0</td>\n",
              "      <td>0</td>\n",
              "      <td>0</td>\n",
              "      <td>0</td>\n",
              "      <td>0</td>\n",
              "      <td>0</td>\n",
              "      <td>0</td>\n",
              "      <td>0</td>\n",
              "    </tr>\n",
              "    <tr>\n",
              "      <th>94204</th>\n",
              "      <td>94204</td>\n",
              "      <td>157368</td>\n",
              "      <td>157369.0</td>\n",
              "      <td>dirty business tactic know</td>\n",
              "      <td>good tactic business development web developme...</td>\n",
              "      <td>0.0</td>\n",
              "      <td>dirty business tactic know good tactic busines...</td>\n",
              "      <td>0</td>\n",
              "      <td>0</td>\n",
              "      <td>0</td>\n",
              "      <td>...</td>\n",
              "      <td>0</td>\n",
              "      <td>0</td>\n",
              "      <td>0</td>\n",
              "      <td>0</td>\n",
              "      <td>0</td>\n",
              "      <td>0</td>\n",
              "      <td>1</td>\n",
              "      <td>0</td>\n",
              "      <td>0</td>\n",
              "      <td>0</td>\n",
              "    </tr>\n",
              "    <tr>\n",
              "      <th>70615</th>\n",
              "      <td>70615</td>\n",
              "      <td>121654</td>\n",
              "      <td>121655.0</td>\n",
              "      <td>far jupiter sun proximity affect planet charac...</td>\n",
              "      <td>far pluto sun proximity affect planet characte...</td>\n",
              "      <td>0.0</td>\n",
              "      <td>far jupiter sun proximity affect planet charac...</td>\n",
              "      <td>0</td>\n",
              "      <td>0</td>\n",
              "      <td>0</td>\n",
              "      <td>...</td>\n",
              "      <td>0</td>\n",
              "      <td>0</td>\n",
              "      <td>0</td>\n",
              "      <td>0</td>\n",
              "      <td>0</td>\n",
              "      <td>0</td>\n",
              "      <td>0</td>\n",
              "      <td>0</td>\n",
              "      <td>0</td>\n",
              "      <td>0</td>\n",
              "    </tr>\n",
              "    <tr>\n",
              "      <th>21381</th>\n",
              "      <td>21381</td>\n",
              "      <td>40259</td>\n",
              "      <td>40260.0</td>\n",
              "      <td>best programming language learn first</td>\n",
              "      <td>c best programming language learn first</td>\n",
              "      <td>0.0</td>\n",
              "      <td>best programming language learn first c best p...</td>\n",
              "      <td>1</td>\n",
              "      <td>0</td>\n",
              "      <td>0</td>\n",
              "      <td>...</td>\n",
              "      <td>0</td>\n",
              "      <td>0</td>\n",
              "      <td>0</td>\n",
              "      <td>0</td>\n",
              "      <td>0</td>\n",
              "      <td>0</td>\n",
              "      <td>0</td>\n",
              "      <td>1</td>\n",
              "      <td>0</td>\n",
              "      <td>0</td>\n",
              "    </tr>\n",
              "    <tr>\n",
              "      <th>81110</th>\n",
              "      <td>81110</td>\n",
              "      <td>137779</td>\n",
              "      <td>137780.0</td>\n",
              "      <td>stay motivated whatever</td>\n",
              "      <td>stay motivated achieve goal without procrastin...</td>\n",
              "      <td>0.0</td>\n",
              "      <td>stay motivated whatever stay motivated achieve...</td>\n",
              "      <td>0</td>\n",
              "      <td>0</td>\n",
              "      <td>0</td>\n",
              "      <td>...</td>\n",
              "      <td>0</td>\n",
              "      <td>0</td>\n",
              "      <td>0</td>\n",
              "      <td>0</td>\n",
              "      <td>0</td>\n",
              "      <td>0</td>\n",
              "      <td>0</td>\n",
              "      <td>0</td>\n",
              "      <td>0</td>\n",
              "      <td>0</td>\n",
              "    </tr>\n",
              "  </tbody>\n",
              "</table>\n",
              "<p>5 rows × 27 columns</p>\n",
              "</div>\n",
              "      <button class=\"colab-df-convert\" onclick=\"convertToInteractive('df-58ec9b17-899c-43cd-a417-3eb199ddfde5')\"\n",
              "              title=\"Convert this dataframe to an interactive table.\"\n",
              "              style=\"display:none;\">\n",
              "        \n",
              "  <svg xmlns=\"http://www.w3.org/2000/svg\" height=\"24px\"viewBox=\"0 0 24 24\"\n",
              "       width=\"24px\">\n",
              "    <path d=\"M0 0h24v24H0V0z\" fill=\"none\"/>\n",
              "    <path d=\"M18.56 5.44l.94 2.06.94-2.06 2.06-.94-2.06-.94-.94-2.06-.94 2.06-2.06.94zm-11 1L8.5 8.5l.94-2.06 2.06-.94-2.06-.94L8.5 2.5l-.94 2.06-2.06.94zm10 10l.94 2.06.94-2.06 2.06-.94-2.06-.94-.94-2.06-.94 2.06-2.06.94z\"/><path d=\"M17.41 7.96l-1.37-1.37c-.4-.4-.92-.59-1.43-.59-.52 0-1.04.2-1.43.59L10.3 9.45l-7.72 7.72c-.78.78-.78 2.05 0 2.83L4 21.41c.39.39.9.59 1.41.59.51 0 1.02-.2 1.41-.59l7.78-7.78 2.81-2.81c.8-.78.8-2.07 0-2.86zM5.41 20L4 18.59l7.72-7.72 1.47 1.35L5.41 20z\"/>\n",
              "  </svg>\n",
              "      </button>\n",
              "      \n",
              "  <style>\n",
              "    .colab-df-container {\n",
              "      display:flex;\n",
              "      flex-wrap:wrap;\n",
              "      gap: 12px;\n",
              "    }\n",
              "\n",
              "    .colab-df-convert {\n",
              "      background-color: #E8F0FE;\n",
              "      border: none;\n",
              "      border-radius: 50%;\n",
              "      cursor: pointer;\n",
              "      display: none;\n",
              "      fill: #1967D2;\n",
              "      height: 32px;\n",
              "      padding: 0 0 0 0;\n",
              "      width: 32px;\n",
              "    }\n",
              "\n",
              "    .colab-df-convert:hover {\n",
              "      background-color: #E2EBFA;\n",
              "      box-shadow: 0px 1px 2px rgba(60, 64, 67, 0.3), 0px 1px 3px 1px rgba(60, 64, 67, 0.15);\n",
              "      fill: #174EA6;\n",
              "    }\n",
              "\n",
              "    [theme=dark] .colab-df-convert {\n",
              "      background-color: #3B4455;\n",
              "      fill: #D2E3FC;\n",
              "    }\n",
              "\n",
              "    [theme=dark] .colab-df-convert:hover {\n",
              "      background-color: #434B5C;\n",
              "      box-shadow: 0px 1px 3px 1px rgba(0, 0, 0, 0.15);\n",
              "      filter: drop-shadow(0px 1px 2px rgba(0, 0, 0, 0.3));\n",
              "      fill: #FFFFFF;\n",
              "    }\n",
              "  </style>\n",
              "\n",
              "      <script>\n",
              "        const buttonEl =\n",
              "          document.querySelector('#df-58ec9b17-899c-43cd-a417-3eb199ddfde5 button.colab-df-convert');\n",
              "        buttonEl.style.display =\n",
              "          google.colab.kernel.accessAllowed ? 'block' : 'none';\n",
              "\n",
              "        async function convertToInteractive(key) {\n",
              "          const element = document.querySelector('#df-58ec9b17-899c-43cd-a417-3eb199ddfde5');\n",
              "          const dataTable =\n",
              "            await google.colab.kernel.invokeFunction('convertToInteractive',\n",
              "                                                     [key], {});\n",
              "          if (!dataTable) return;\n",
              "\n",
              "          const docLinkHtml = 'Like what you see? Visit the ' +\n",
              "            '<a target=\"_blank\" href=https://colab.research.google.com/notebooks/data_table.ipynb>data table notebook</a>'\n",
              "            + ' to learn more about interactive tables.';\n",
              "          element.innerHTML = '';\n",
              "          dataTable['output_type'] = 'display_data';\n",
              "          await google.colab.output.renderOutput(dataTable, element);\n",
              "          const docLink = document.createElement('div');\n",
              "          docLink.innerHTML = docLinkHtml;\n",
              "          element.appendChild(docLink);\n",
              "        }\n",
              "      </script>\n",
              "    </div>\n",
              "  </div>\n",
              "  "
            ]
          },
          "metadata": {},
          "execution_count": 12
        }
      ],
      "source": [
        "n_df.head()"
      ]
    },
    {
      "cell_type": "markdown",
      "metadata": {
        "id": "GXjIQUv8o8qZ"
      },
      "source": [
        "### Feature Engineering & Modeling \n",
        "\n",
        "#### Feature Engineering techniques: \n",
        "\n",
        "- tf-idf\n",
        "- word2vec\n",
        "- word count\n",
        "\n",
        "#### Different modeling techniques:\n",
        "\n",
        "- logistic regression\n",
        "- XGBoost\n",
        "- LSTMs"
      ]
    },
    {
      "cell_type": "code",
      "execution_count": 13,
      "metadata": {
        "tags": [],
        "id": "OfZbt5STo8qZ"
      },
      "outputs": [],
      "source": [
        "from sklearn.feature_extraction.text import TfidfVectorizer\n",
        "from sklearn.feature_extraction.text import CountVectorizer \n",
        "import gensim\n",
        "from gensim.models import Word2Vec\n",
        "from scipy.spatial.distance import cosine\n",
        "from sklearn.model_selection import train_test_split\n",
        "from sklearn.linear_model import LogisticRegression\n",
        "from sklearn.metrics import accuracy_score, f1_score\n",
        "from xgboost import XGBClassifier\n",
        "from sklearn.naive_bayes import MultinomialNB\n",
        "from sklearn.metrics import confusion_matrix"
      ]
    },
    {
      "cell_type": "markdown",
      "metadata": {
        "id": "1YwpLjsmo8qZ"
      },
      "source": [
        "- TF-IDF (with top_n words) and modeling with confusion matrix"
      ]
    },
    {
      "cell_type": "code",
      "execution_count": 14,
      "metadata": {
        "tags": [],
        "id": "lM0IX1H3o8qZ"
      },
      "outputs": [],
      "source": [
        "# Fit a basic TFIDF Vectorizer and view the results\n",
        "vect_tfidf= TfidfVectorizer(analyzer = 'word', token_pattern = r'\\w{1,}', max_features = 1000, use_idf = True)\n"
      ]
    },
    {
      "cell_type": "code",
      "execution_count": 15,
      "metadata": {
        "tags": [],
        "id": "N1FFC2Fpo8qa"
      },
      "outputs": [],
      "source": [
        "\n",
        "X_tfidf = vect_tfidf.fit_transform(n_df['text'])\n",
        "df_tfidf = pd.DataFrame(X_tfidf.toarray(), columns=vect_tfidf.get_feature_names_out())\n"
      ]
    },
    {
      "cell_type": "code",
      "execution_count": 16,
      "metadata": {
        "tags": [],
        "id": "QXUrA97Io8qa"
      },
      "outputs": [],
      "source": [
        "# Rename the binary feature columns to match the words in top_n_words\n",
        "binary_features = n_df[['has_' + word for word in top_n_words]]\n",
        "\n",
        "# Set the index of the binary_features DataFrame to match the n_df_tfidf DataFrame\n",
        "binary_features.index = df_tfidf.index\n",
        "\n",
        "# Concatenate the n_df_tfidf with the binary features\n",
        "df_combined = pd.concat([df_tfidf, binary_features], axis=1)\n",
        "\n",
        "# Perform the train-test split\n",
        "X_train, X_test, y_train, y_test = train_test_split(df_combined, n_df['is_duplicate'], test_size=0.2, random_state=42)\n"
      ]
    },
    {
      "cell_type": "code",
      "execution_count": 17,
      "metadata": {
        "tags": [],
        "id": "UQ3wa2SGo8qa",
        "outputId": "0f0cf6a1-1f2f-48a9-b3d2-d1c34a5b104c",
        "colab": {
          "base_uri": "https://localhost:8080/"
        }
      },
      "outputs": [
        {
          "output_type": "stream",
          "name": "stdout",
          "text": [
            "Accuracy: 0.70\n",
            "F1 Score: 0.51\n"
          ]
        }
      ],
      "source": [
        "# Initialize and train the logistic regression model\n",
        "lr_model = LogisticRegression(random_state=42)\n",
        "lr_model.fit(X_train, y_train)\n",
        "\n",
        "# Make predictions on the test set\n",
        "y_pred = lr_model.predict(X_test)\n",
        "\n",
        "# Calculate and print the accuracy and F1 scores\n",
        "accuracy = accuracy_score(y_test, y_pred)\n",
        "f1 = f1_score(y_test, y_pred)\n",
        "print(f\"Accuracy: {accuracy:.2f}\")\n",
        "print(f\"F1 Score: {f1:.2f}\")\n"
      ]
    },
    {
      "cell_type": "code",
      "execution_count": 18,
      "metadata": {
        "tags": [],
        "id": "V0Kqa_Cjo8qa",
        "outputId": "28504226-56f7-490e-d5db-d2e6d4f946f8",
        "colab": {
          "base_uri": "https://localhost:8080/"
        }
      },
      "outputs": [
        {
          "output_type": "stream",
          "name": "stdout",
          "text": [
            "Accuracy: 0.68\n",
            "F1 Score: 0.44\n"
          ]
        }
      ],
      "source": [
        "# Initialize and train the XGBoost model\n",
        "xgb_model = XGBClassifier()\n",
        "xgb_model.fit(X_train, y_train)\n",
        "\n",
        "# Make predictions on the test set\n",
        "y_pred = xgb_model.predict(X_test)\n",
        "\n",
        "# Calculate and print the accuracy and F1 scores\n",
        "accuracy = accuracy_score(y_test, y_pred)\n",
        "f1 = f1_score(y_test, y_pred)\n",
        "print(f\"Accuracy: {accuracy:.2f}\")\n",
        "print(f\"F1 Score: {f1:.2f}\")\n"
      ]
    },
    {
      "cell_type": "code",
      "execution_count": null,
      "metadata": {
        "id": "2bA8VaFao8qb"
      },
      "outputs": [],
      "source": []
    },
    {
      "cell_type": "markdown",
      "source": [
        "# Combined features with TF-IDF and Word2Vec together "
      ],
      "metadata": {
        "id": "sCcm3KDobMtG"
      }
    },
    {
      "cell_type": "code",
      "execution_count": 19,
      "metadata": {
        "tags": [],
        "id": "kkLfYzYPo8qc"
      },
      "outputs": [],
      "source": [
        "# create a new dataframe 'df_tfidf' \n",
        "vect_tfidf = TfidfVectorizer(max_features=1000)\n",
        "\n",
        "def create_tfidf_matrix(text,vectorizer):\n",
        "    tfidf_matrix = vectorizer.fit_transform(text)\n",
        "    return pd.DataFrame(tfidf_matrix.toarray(), columns = vectorizer.get_feature_names_out())\n",
        "\n",
        "df_tfidf = create_tfidf_matrix(n_df['text'],vect_tfidf)"
      ]
    },
    {
      "cell_type": "code",
      "execution_count": 20,
      "metadata": {
        "tags": [],
        "id": "mfE7pcKVo8qd",
        "colab": {
          "base_uri": "https://localhost:8080/"
        },
        "outputId": "56404cab-ecfc-460d-837d-415b883b6186"
      },
      "outputs": [
        {
          "output_type": "stream",
          "name": "stderr",
          "text": [
            "WARNING:gensim.models.word2vec:Each 'sentences' item should be a list of words (usually unicode strings). First item here is instead plain <class 'str'>.\n"
          ]
        }
      ],
      "source": [
        "# Train a Word2Vec model on the processed_questions column\n",
        "word2vec_model = Word2Vec(n_df['text'], vector_size=100, window=5, min_count=1, workers=4)\n",
        "\n",
        "def get_sentence_vector(sentence, model):\n",
        "    vector_sum = np.zeros(model.vector_size)\n",
        "    for word in sentence:\n",
        "        vector_sum += model.wv[word]\n",
        "    return vector_sum / len(sentence)\n",
        "\n",
        "# Calculate the sentence vector for each question\n",
        "n_df['w2v'] = n_df['text'].apply(lambda x: get_sentence_vector(x, word2vec_model))\n",
        "\n",
        "# Create a new DataFrame with the word2vec features\n",
        "n_df_w2v = pd.DataFrame(n_df['w2v'].tolist())\n",
        "\n"
      ]
    },
    {
      "cell_type": "code",
      "execution_count": 24,
      "metadata": {
        "tags": [],
        "id": "PFnbMv0_o8qd"
      },
      "outputs": [],
      "source": [
        "# Concatenate the features\n",
        "combined_features = np.hstack((df_tfidf.values, n_df_w2v.values))\n",
        "\n",
        "# Create a new DataFrame with combined features\n",
        "df_combined = pd.DataFrame(combined_features)\n",
        "\n"
      ]
    },
    {
      "cell_type": "code",
      "source": [
        "df_combined.isnull().sum()"
      ],
      "metadata": {
        "colab": {
          "base_uri": "https://localhost:8080/"
        },
        "id": "yQr5lcSlchYK",
        "outputId": "9f4e1c3a-849d-4cc4-e62d-45a5f9ecb5d9"
      },
      "execution_count": 27,
      "outputs": [
        {
          "output_type": "execute_result",
          "data": {
            "text/plain": [
              "0       0\n",
              "1       0\n",
              "2       0\n",
              "3       0\n",
              "4       0\n",
              "       ..\n",
              "1095    4\n",
              "1096    4\n",
              "1097    4\n",
              "1098    4\n",
              "1099    4\n",
              "Length: 1100, dtype: int64"
            ]
          },
          "metadata": {},
          "execution_count": 27
        }
      ]
    },
    {
      "cell_type": "code",
      "source": [
        "from sklearn.impute import SimpleImputer\n",
        "\n",
        "# Impute missing values using the mean of each column\n",
        "imputer = SimpleImputer()\n",
        "df_combined = imputer.fit_transform(df_combined)\n"
      ],
      "metadata": {
        "id": "dJfiNrDWcrRy"
      },
      "execution_count": 29,
      "outputs": []
    },
    {
      "cell_type": "code",
      "execution_count": 31,
      "metadata": {
        "tags": [],
        "id": "HcQ4X5v4o8qd"
      },
      "outputs": [],
      "source": [
        "# Split the dataset into train and test sets\n",
        "X_train_combined, X_test_combined, y_train_combined, y_test_combined = train_test_split(df_combined, n_df['is_duplicate'], test_size=0.2, random_state=42)\n"
      ]
    },
    {
      "cell_type": "code",
      "execution_count": 32,
      "metadata": {
        "tags": [],
        "id": "6V8WDScUo8qd",
        "outputId": "89047440-38e8-43db-b55e-219546967c48",
        "colab": {
          "base_uri": "https://localhost:8080/"
        }
      },
      "outputs": [
        {
          "output_type": "stream",
          "name": "stdout",
          "text": [
            "Logistic Regression Accuracy: 0.699\n",
            "Logistic Regression F1 Score: 0.5033003300330033\n"
          ]
        }
      ],
      "source": [
        "from sklearn.linear_model import LogisticRegression\n",
        "from sklearn.metrics import accuracy_score, f1_score\n",
        "\n",
        "# Train a logistic regression model\n",
        "lr = LogisticRegression(random_state=42)\n",
        "lr.fit(X_train_combined, y_train_combined)\n",
        "\n",
        "# Make predictions\n",
        "y_pred_lr = lr.predict(X_test_combined)\n",
        "\n",
        "# Evaluate the model\n",
        "accuracy_lr = accuracy_score(y_test_combined, y_pred_lr)\n",
        "f1_lr = f1_score(y_test_combined, y_pred_lr)\n",
        "\n",
        "print(\"Logistic Regression Accuracy:\", accuracy_lr)\n",
        "print(\"Logistic Regression F1 Score:\", f1_lr)\n"
      ]
    },
    {
      "cell_type": "code",
      "source": [],
      "metadata": {
        "id": "1s0RdZw-c5Bt"
      },
      "execution_count": null,
      "outputs": []
    },
    {
      "cell_type": "code",
      "execution_count": null,
      "metadata": {
        "id": "UxUzsY-1o8qd"
      },
      "outputs": [],
      "source": []
    },
    {
      "cell_type": "markdown",
      "source": [
        "# - This part is i did in Docker, so i did not run it again in my local. "
      ],
      "metadata": {
        "id": "V_z0Z0_hc57w"
      }
    },
    {
      "cell_type": "code",
      "execution_count": null,
      "metadata": {
        "tags": [],
        "id": "TgYnqICMo8qe"
      },
      "outputs": [],
      "source": [
        "from keras.models import Sequential\n",
        "from keras.layers import Dense, LSTM, Dropout\n",
        "from keras.optimizers import Adam\n",
        "from tensorflow.keras.preprocessing.sequence import pad_sequences"
      ]
    },
    {
      "cell_type": "code",
      "execution_count": null,
      "metadata": {
        "tags": [],
        "id": "RI8KCJJFo8qe",
        "outputId": "db444f1b-07a7-44f0-b7f3-dcebdb1848ae"
      },
      "outputs": [
        {
          "name": "stderr",
          "output_type": "stream",
          "text": [
            "2023-04-11 20:26:51.147155: W tensorflow/tsl/platform/profile_utils/cpu_utils.cc:118] Failed to find bogomips or clock in /proc/cpuinfo; cannot determine CPU frequency\n"
          ]
        },
        {
          "name": "stdout",
          "output_type": "stream",
          "text": [
            "Epoch 1/20\n",
            "200/200 [==============================] - 12s 49ms/step - loss: 0.6511 - accuracy: 0.6217 - val_loss: 0.6045 - val_accuracy: 0.6706\n",
            "Epoch 2/20\n",
            "200/200 [==============================] - 9s 46ms/step - loss: 0.5824 - accuracy: 0.6952 - val_loss: 0.5718 - val_accuracy: 0.6944\n",
            "Epoch 3/20\n",
            "200/200 [==============================] - 9s 47ms/step - loss: 0.5229 - accuracy: 0.7387 - val_loss: 0.5836 - val_accuracy: 0.6869\n",
            "Epoch 4/20\n",
            "200/200 [==============================] - 9s 46ms/step - loss: 0.4787 - accuracy: 0.7611 - val_loss: 0.6058 - val_accuracy: 0.6944\n",
            "Epoch 5/20\n",
            "200/200 [==============================] - 9s 46ms/step - loss: 0.4414 - accuracy: 0.7855 - val_loss: 0.6264 - val_accuracy: 0.6819\n",
            "Epoch 6/20\n",
            "200/200 [==============================] - 9s 46ms/step - loss: 0.4070 - accuracy: 0.8041 - val_loss: 0.6461 - val_accuracy: 0.6787\n",
            "Epoch 7/20\n",
            "200/200 [==============================] - 9s 46ms/step - loss: 0.3765 - accuracy: 0.8294 - val_loss: 0.6710 - val_accuracy: 0.6650\n",
            "Epoch 8/20\n",
            "200/200 [==============================] - 9s 45ms/step - loss: 0.3357 - accuracy: 0.8500 - val_loss: 0.7100 - val_accuracy: 0.6744\n",
            "Epoch 9/20\n",
            "200/200 [==============================] - 9s 45ms/step - loss: 0.2985 - accuracy: 0.8745 - val_loss: 0.7640 - val_accuracy: 0.6687\n",
            "Epoch 10/20\n",
            "200/200 [==============================] - 9s 45ms/step - loss: 0.2674 - accuracy: 0.8852 - val_loss: 0.8006 - val_accuracy: 0.6719\n",
            "Epoch 11/20\n",
            "200/200 [==============================] - 9s 45ms/step - loss: 0.2421 - accuracy: 0.9000 - val_loss: 0.8402 - val_accuracy: 0.6719\n",
            "Epoch 12/20\n",
            "200/200 [==============================] - 9s 46ms/step - loss: 0.2192 - accuracy: 0.9130 - val_loss: 0.8776 - val_accuracy: 0.6806\n",
            "Epoch 13/20\n",
            "200/200 [==============================] - 9s 44ms/step - loss: 0.2063 - accuracy: 0.9159 - val_loss: 0.9380 - val_accuracy: 0.6719\n",
            "Epoch 14/20\n",
            "200/200 [==============================] - 9s 45ms/step - loss: 0.1888 - accuracy: 0.9219 - val_loss: 0.9893 - val_accuracy: 0.6825\n",
            "Epoch 15/20\n",
            "200/200 [==============================] - 9s 45ms/step - loss: 0.1749 - accuracy: 0.9294 - val_loss: 1.0095 - val_accuracy: 0.6800\n",
            "Epoch 16/20\n",
            "200/200 [==============================] - 9s 45ms/step - loss: 0.1581 - accuracy: 0.9334 - val_loss: 1.0772 - val_accuracy: 0.6756\n",
            "Epoch 17/20\n",
            "200/200 [==============================] - 9s 44ms/step - loss: 0.1459 - accuracy: 0.9442 - val_loss: 1.1124 - val_accuracy: 0.6700\n",
            "Epoch 18/20\n",
            "200/200 [==============================] - 9s 45ms/step - loss: 0.1444 - accuracy: 0.9433 - val_loss: 1.1291 - val_accuracy: 0.6806\n",
            "Epoch 19/20\n",
            "200/200 [==============================] - 9s 45ms/step - loss: 0.1386 - accuracy: 0.9456 - val_loss: 1.1576 - val_accuracy: 0.6744\n",
            "Epoch 20/20\n",
            "200/200 [==============================] - 9s 44ms/step - loss: 0.1267 - accuracy: 0.9500 - val_loss: 1.2296 - val_accuracy: 0.6694\n",
            "63/63 [==============================] - 2s 24ms/step - loss: 1.3097 - accuracy: 0.6705\n",
            "Test accuracy: 0.6704999804496765\n"
          ]
        }
      ],
      "source": [
        "# Build a feedforward neural network model\n",
        "model = Sequential()\n",
        "model.add(Dense(128, activation='relu', input_shape=(X_train.shape[1],)))\n",
        "model.add(Dropout(0.5))\n",
        "model.add(Dense(64, activation='relu'))\n",
        "model.add(Dropout(0.5))\n",
        "model.add(Dense(1, activation='sigmoid'))\n",
        "\n",
        "# Compile the model\n",
        "model.compile(optimizer='adam', loss='binary_crossentropy', metrics=['accuracy'])\n",
        "\n",
        "# Convert the input data to Numpy arrays\n",
        "X_train_np = X_train.values\n",
        "y_train_np = y_train.values\n",
        "X_test_np = X_test.values\n",
        "y_test_np = y_test.values\n",
        "\n",
        "# Train the model\n",
        "history = model.fit(X_train_np, y_train_np, epochs=20, batch_size=32, validation_split=0.2)\n",
        "\n",
        "# Evaluate the model on the test set\n",
        "test_loss, test_acc = model.evaluate(X_test_np, y_test_np)\n",
        "print('Test accuracy:', test_acc)\n",
        "\n"
      ]
    },
    {
      "cell_type": "code",
      "execution_count": null,
      "metadata": {
        "id": "IQvUFPIVo8qe"
      },
      "outputs": [],
      "source": []
    }
  ],
  "metadata": {
    "kernelspec": {
      "display_name": "Python 3 (ipykernel)",
      "language": "python",
      "name": "python3"
    },
    "language_info": {
      "codemirror_mode": {
        "name": "ipython",
        "version": 3
      },
      "file_extension": ".py",
      "mimetype": "text/x-python",
      "name": "python",
      "nbconvert_exporter": "python",
      "pygments_lexer": "ipython3",
      "version": "3.10.10"
    },
    "colab": {
      "provenance": []
    }
  },
  "nbformat": 4,
  "nbformat_minor": 0
}